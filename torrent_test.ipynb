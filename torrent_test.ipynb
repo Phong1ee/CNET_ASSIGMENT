{
 "cells": [
  {
   "cell_type": "code",
   "execution_count": 2,
   "metadata": {},
   "outputs": [],
   "source": [
    "from torf import Torrent\n",
    "import hashlib\n",
    "from math import ceil"
   ]
  },
  {
   "cell_type": "code",
   "execution_count": 3,
   "metadata": {},
   "outputs": [
    {
     "name": "stdout",
     "output_type": "stream",
     "text": [
      "compnet.pdf\n",
      "524288\n",
      "Piece hash matches\n"
     ]
    }
   ],
   "source": [
    "import hashlib\n",
    "\n",
    "\n",
    "def _read_piece(torrent, piece_idx):\n",
    "    if torrent.mode == \"singlefile\":\n",
    "        offset = piece_idx * torrent.piece_size\n",
    "        try:\n",
    "            with open(torrent.name, \"rb\") as file:\n",
    "                file.seek(offset)\n",
    "                data = file.read(torrent.piece_size)\n",
    "                if not data:\n",
    "                    return None\n",
    "                return data\n",
    "        except FileNotFoundError as e:\n",
    "            print(f\"File not found: {e}\")\n",
    "            return None\n",
    "        except IOError as e:\n",
    "            print(f\"Error reading file: {e}\")\n",
    "            return None\n",
    "\n",
    "    else:\n",
    "        # Handle multi-file mode (if needed)\n",
    "        pass\n",
    "\n",
    "\n",
    "torrent = Torrent.read(\"compnet.torrent\")\n",
    "\n",
    "print(torrent.name)\n",
    "\n",
    "data = _read_piece(torrent, 2)\n",
    "print(len(data))\n",
    "hash = hashlib.sha1(data).digest()\n",
    "if hash == torrent.hashes[2]:\n",
    "    print(\"Piece hash matches\")"
   ]
  },
  {
   "cell_type": "code",
   "execution_count": 4,
   "metadata": {},
   "outputs": [
    {
     "name": "stdout",
     "output_type": "stream",
     "text": [
      "['asm1.torrent', 'compnet.torrent']\n"
     ]
    },
    {
     "data": {
      "text/plain": [
       "'asm1.torrent'"
      ]
     },
     "execution_count": 4,
     "metadata": {},
     "output_type": "execute_result"
    }
   ],
   "source": [
    "import os\n",
    "\n",
    "torrent = Torrent.read(\"asm1.torrent\")\n",
    "\n",
    "info_hash = torrent.infohash\n",
    "\n",
    "\n",
    "def _check_local_repo(info_hash):\n",
    "\n",
    "    torrent_files = [f for f in os.listdir(\"./\") if f.endswith(\".torrent\")]\n",
    "\n",
    "    print(torrent_files)\n",
    "\n",
    "    for torrent_file in torrent_files:\n",
    "\n",
    "        torrent = Torrent.read(torrent_file)\n",
    "\n",
    "        if torrent.infohash == info_hash:\n",
    "\n",
    "            return torrent_file\n",
    "\n",
    "    return None\n",
    "\n",
    "\n",
    "_check_local_repo(info_hash=info_hash)"
   ]
  },
  {
   "cell_type": "code",
   "execution_count": 79,
   "metadata": {},
   "outputs": [],
   "source": [
    "client_prefix = \"-ST0001-\"\n",
    "import random\n",
    "\n",
    "# random number 12 digits\n",
    "unique_component = str(random.randint(0, 999999999999)).zfill(12)\n",
    "id = f\"{client_prefix}{unique_component}\""
   ]
  },
  {
   "cell_type": "code",
   "execution_count": 107,
   "metadata": {},
   "outputs": [
    {
     "name": "stdout",
     "output_type": "stream",
     "text": [
      "20\n",
      "20\n",
      "b'\\x13BitTorrent protocol00000000G\\xee\\xd7?ZK\\r\\x0c!\\xa3\\xc3\\x81\\x00\\xcbA\\xb4q@:\\x80-ST0001-234897642375'\n",
      "68\n"
     ]
    }
   ],
   "source": [
    "import struct\n",
    "\n",
    "print(len(id))\n",
    "info_hash = torrent.infohash\n",
    "pstrlen = struct.pack(\"B\", 19)\n",
    "pstr = b\"BitTorrent protocol\"\n",
    "reserved = b\"\\x00\" * 8\n",
    "info_hash = bytes.fromhex(info_hash)\n",
    "print(len(info_hash))\n",
    "handshake = pstrlen + pstr + reserved + info_hash + id.encode(\"utf-8\")\n",
    "\n",
    "print(handshake)\n",
    "print(len(handshake))"
   ]
  },
  {
   "cell_type": "code",
   "execution_count": 108,
   "metadata": {},
   "outputs": [
    {
     "name": "stdout",
     "output_type": "stream",
     "text": [
      "19\n",
      "BitTorrent protocol\n",
      "3030303030303030\n",
      "47eed73f5a4b0d0c21a3c38100cb41b471403a80\n",
      "b'-ST0001-234897642375'\n",
      "47eed73f5a4b0d0c21a3c38100cb41b471403a80\n"
     ]
    }
   ],
   "source": [
    "pstrlen = struct.unpack(\"B\", handshake[0:1])[0]\n",
    "pstr = handshake[1:20]\n",
    "reserved = handshake[20:28]\n",
    "info_hash = handshake[28:48]\n",
    "peer_id = handshake[48:]\n",
    "\n",
    "print(pstrlen)\n",
    "print(pstr.decode())\n",
    "print(reserved.hex())\n",
    "print(info_hash.hex())\n",
    "print(peer_id)\n",
    "\n",
    "print(torrent.infohash)"
   ]
  }
 ],
 "metadata": {
  "kernelspec": {
   "display_name": "cn",
   "language": "python",
   "name": "python3"
  },
  "language_info": {
   "codemirror_mode": {
    "name": "ipython",
    "version": 3
   },
   "file_extension": ".py",
   "mimetype": "text/x-python",
   "name": "python",
   "nbconvert_exporter": "python",
   "pygments_lexer": "ipython3",
   "version": "3.13.0"
  }
 },
 "nbformat": 4,
 "nbformat_minor": 2
}
