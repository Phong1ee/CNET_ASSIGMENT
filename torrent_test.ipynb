{
 "cells": [
  {
   "cell_type": "code",
   "execution_count": 18,
   "metadata": {},
   "outputs": [],
   "source": [
    "from torf import Torrent\n",
    "import hashlib"
   ]
  },
  {
   "cell_type": "code",
   "execution_count": 19,
   "metadata": {},
   "outputs": [],
   "source": [
    "tor = Torrent.read(\"pic.torrent\")"
   ]
  },
  {
   "cell_type": "code",
   "execution_count": 20,
   "metadata": {},
   "outputs": [
    {
     "name": "stdout",
     "output_type": "stream",
     "text": [
      "File Name: turquoise_mountains_4k.jpg\n",
      "File Size: 5367782\n",
      "Number of Files: 1\n",
      "Trackers: []\n"
     ]
    }
   ],
   "source": [
    "# Extract the name of the file\n",
    "file_name = tor.name\n",
    "print(\"File Name:\", file_name)\n",
    "\n",
    "# Extract the size of the file\n",
    "file_size = tor.size\n",
    "print(\"File Size:\", file_size)\n",
    "\n",
    "# Extract the number of files in the torrent\n",
    "num_files = len(tor.files)\n",
    "print(\"Number of Files:\", num_files)\n",
    "\n",
    "# Extract the trackers used in the torrent\n",
    "trackers = tor.trackers\n",
    "print(\"Trackers:\", trackers)"
   ]
  },
  {
   "cell_type": "code",
   "execution_count": 21,
   "metadata": {},
   "outputs": [
    {
     "name": "stdout",
     "output_type": "stream",
     "text": [
      "Hashes (Human-readable): ['c0b677c042356e25b3b7204fe9bb2734b192d37f', 'b01261a663a5a9373e1b59cd36a91736beff0587', '584af26332a386d0dca40b5081838b7ba4019fd8', '2df2f275b6a9acad460ef1af5d357aaa20271f71', '7d6ad1b46a651ec2a102f6c7321ac685005d857d', 'e3314e85fceb07ef41070e90c422e1ce29e808d6', 'e90ba6e2a2805efc7e555f7fc1bc2d714c699f7f', '2f105140259b6707fea615cfc479a66f5ba52969', 'd8047b5db4befd5e3fdef6416a68f414dfbaf3f6', 'b1bd4222df3e7711b278635942b47f9181cc091f', '4ddd7538bc1ada97145fe2f418581e498846f09b']\n"
     ]
    }
   ],
   "source": [
    "import binascii\n",
    "\n",
    "tor.hashes\n",
    "\n",
    "# Convert the SHA1 piece hashes to human-readable format\n",
    "hashes_readable = [binascii.hexlify(hash).decode() for hash in tor.hashes]\n",
    "\n",
    "# Print the human-readable hashes\n",
    "print(\"Hashes (Human-readable):\", hashes_readable)"
   ]
  },
  {
   "cell_type": "code",
   "execution_count": 22,
   "metadata": {},
   "outputs": [
    {
     "data": {
      "text/plain": [
       "11"
      ]
     },
     "execution_count": 22,
     "metadata": {},
     "output_type": "execute_result"
    }
   ],
   "source": [
    "tor.pieces"
   ]
  }
 ],
 "metadata": {
  "kernelspec": {
   "display_name": "cn",
   "language": "python",
   "name": "python3"
  },
  "language_info": {
   "codemirror_mode": {
    "name": "ipython",
    "version": 3
   },
   "file_extension": ".py",
   "mimetype": "text/x-python",
   "name": "python",
   "nbconvert_exporter": "python",
   "pygments_lexer": "ipython3",
   "version": "3.13.0"
  }
 },
 "nbformat": 4,
 "nbformat_minor": 2
}
