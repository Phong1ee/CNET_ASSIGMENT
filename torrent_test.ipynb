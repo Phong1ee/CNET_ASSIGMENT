{
 "cells": [
  {
   "cell_type": "code",
   "execution_count": 1,
   "metadata": {},
   "outputs": [],
   "source": [
    "# from Torrent import Torrent\n",
    "import torf\n",
    "\n",
    "\n",
    "import Torrent\n",
    "\n",
    "\n",
    "import hashlib\n",
    "\n",
    "\n",
    "import struct\n",
    "\n",
    "\n",
    "from math import ceil\n",
    "\n",
    "\n",
    "from DownloadManager import DownloadManager\n",
    "import bencodepy\n",
    "\n",
    "\n",
    "import os"
   ]
  },
  {
   "cell_type": "code",
   "execution_count": 7,
   "metadata": {},
   "outputs": [
    {
     "name": "stdout",
     "output_type": "stream",
     "text": [
      "((WindowsPath('slides/Chapter_1 - Database System Concepts and Architecture.pdf'), 927949), (WindowsPath('slides/Chapter_2-ERD.pdf'), 1905020), (WindowsPath('slides/b/Chapter_3 - EERD.pdf'), 1633779), (WindowsPath('slides/a/Chapter_7-Functional Dependencies & Normalization for Relational DBs.pdf'), 1795301), (WindowsPath('slides/a/Chapter_8-1-97-Data Storage Indexing Structures for Files.pdf'), 3268228), (WindowsPath('slides/a/Chapter_9 - Database Security.pdf'), 1321112), (WindowsPath('slides/a/c/Chapter_4-RelationalDataModelAndRelationalMapping.pdf'), 2847343), (WindowsPath('slides/a/c/Chapter_5-Relational Algebra.pdf'), 2034515), (WindowsPath('slides/a/c/Chapter_6 - SQL.pdf'), 1859836))\n",
      "slides\\Chapter_1 - Database System Concepts and Architecture.pdf\n",
      "slides\\Chapter_2-ERD.pdf\n",
      "slides\\b\\Chapter_3 - EERD.pdf\n",
      "slides\\a\\Chapter_7-Functional Dependencies & Normalization for Relational DBs.pdf\n",
      "slides\\a\\Chapter_8-1-97-Data Storage Indexing Structures for Files.pdf\n",
      "slides\\a\\Chapter_9 - Database Security.pdf\n",
      "slides\\a\\c\\Chapter_4-RelationalDataModelAndRelationalMapping.pdf\n",
      "slides\\a\\c\\Chapter_5-Relational Algebra.pdf\n",
      "slides\\a\\c\\Chapter_6 - SQL.pdf\n"
     ]
    }
   ],
   "source": [
    "tor_real = torf.Torrent.read(\"./torrents/slies.torrent\")\n",
    "tor = Torrent.Torrent.read(\"./torrents/slides.torrent\")\n",
    "print(tor.files)\n",
    "# for file in tor_real.files:\n",
    "#     print(file.name, file.size)\n",
    "for file in tor.files:\n",
    "    print(file[0])"
   ]
  },
  {
   "cell_type": "code",
   "execution_count": 4,
   "metadata": {},
   "outputs": [
    {
     "data": {
      "text/plain": [
       "[2, 3, 0, 1]"
      ]
     },
     "execution_count": 4,
     "metadata": {},
     "output_type": "execute_result"
    }
   ],
   "source": [
    "bitfiels = {\n",
    "    \"AC\": bytearray([1, 1, 0, 0]),\n",
    "    \"BC\": bytearray([1, 1, 0, 0]),\n",
    "    \"CC\": bytearray([1, 1, 0, 1]),\n",
    "    \"DC\": bytearray([1, 1, 1, 1]),\n",
    "}\n",
    "\n",
    "downloadManager = DownloadManager(1, \"./torrents/slides.torrent\", \"./downloads\")\n",
    "downloadManager._get_rarest_pieces(bitfiels)"
   ]
  }
 ],
 "metadata": {
  "kernelspec": {
   "display_name": "cn",
   "language": "python",
   "name": "python3"
  },
  "language_info": {
   "codemirror_mode": {
    "name": "ipython",
    "version": 3
   },
   "file_extension": ".py",
   "mimetype": "text/x-python",
   "name": "python",
   "nbconvert_exporter": "python",
   "pygments_lexer": "ipython3",
   "version": "3.13.0"
  }
 },
 "nbformat": 4,
 "nbformat_minor": 2
}
