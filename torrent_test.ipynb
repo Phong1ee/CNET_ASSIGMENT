{
 "cells": [
  {
   "cell_type": "code",
   "execution_count": 3,
   "metadata": {},
   "outputs": [],
   "source": [
    "from torf import Torrent\n",
    "import hashlib\n",
    "import struct\n",
    "from math import ceil\n",
    "import bencodepy"
   ]
  },
  {
   "cell_type": "code",
   "execution_count": 3,
   "metadata": {},
   "outputs": [
    {
     "name": "stdout",
     "output_type": "stream",
     "text": [
      "compnet.pdf\n",
      "524288\n",
      "Piece hash matches\n"
     ]
    }
   ],
   "source": [
    "import hashlib\n",
    "\n",
    "\n",
    "def _read_piece(torrent, piece_idx):\n",
    "    if torrent.mode == \"singlefile\":\n",
    "        offset = piece_idx * torrent.piece_size\n",
    "        try:\n",
    "            with open(torrent.name, \"rb\") as file:\n",
    "                file.seek(offset)\n",
    "                data = file.read(torrent.piece_size)\n",
    "                if not data:\n",
    "                    return None\n",
    "                return data\n",
    "        except FileNotFoundError as e:\n",
    "            print(f\"File not found: {e}\")\n",
    "            return None\n",
    "        except IOError as e:\n",
    "            print(f\"Error reading file: {e}\")\n",
    "            return None\n",
    "\n",
    "    else:\n",
    "        # Handle multi-file mode (if needed)\n",
    "        pass\n",
    "\n",
    "\n",
    "torrent = Torrent.read(\"compnet.torrent\")\n",
    "\n",
    "print(torrent.name)\n",
    "\n",
    "data = _read_piece(torrent, 2)\n",
    "print(len(data))\n",
    "hash = hashlib.sha1(data).digest()\n",
    "if hash == torrent.hashes[2]:\n",
    "    print(\"Piece hash matches\")"
   ]
  },
  {
   "cell_type": "code",
   "execution_count": 7,
   "metadata": {},
   "outputs": [
    {
     "ename": "ReadError",
     "evalue": "asm1.torrent: No such file or directory",
     "output_type": "error",
     "traceback": [
      "\u001b[1;31m---------------------------------------------------------------------------\u001b[0m",
      "\u001b[1;31mFileNotFoundError\u001b[0m                         Traceback (most recent call last)",
      "File \u001b[1;32mc:\\ProgramData\\anaconda3\\envs\\cn\\Lib\\site-packages\\torf\\_torrent.py:1654\u001b[0m, in \u001b[0;36mTorrent.read\u001b[1;34m(cls, filepath, validate)\u001b[0m\n\u001b[0;32m   1653\u001b[0m \u001b[39mtry\u001b[39;00m:\n\u001b[1;32m-> 1654\u001b[0m     \u001b[39mwith\u001b[39;00m \u001b[39mopen\u001b[39;49m(filepath, \u001b[39m'\u001b[39;49m\u001b[39mrb\u001b[39;49m\u001b[39m'\u001b[39;49m) \u001b[39mas\u001b[39;00m f:\n\u001b[0;32m   1655\u001b[0m         \u001b[39mreturn\u001b[39;00m \u001b[39mcls\u001b[39m\u001b[39m.\u001b[39mread_stream(f, validate\u001b[39m=\u001b[39mvalidate)\n",
      "\u001b[1;31mFileNotFoundError\u001b[0m: [Errno 2] No such file or directory: 'asm1.torrent'",
      "\nDuring handling of the above exception, another exception occurred:\n",
      "\u001b[1;31mReadError\u001b[0m                                 Traceback (most recent call last)",
      "\u001b[1;32mc:\\Users\\DUC_AN\\Documents\\GitHub\\CNET_ASSIGMENT\\torrent_test.ipynb Cell 3\u001b[0m line \u001b[0;36m3\n\u001b[0;32m      <a href='vscode-notebook-cell:/c%3A/Users/DUC_AN/Documents/GitHub/CNET_ASSIGMENT/torrent_test.ipynb#W2sZmlsZQ%3D%3D?line=0'>1</a>\u001b[0m \u001b[39mimport\u001b[39;00m \u001b[39mos\u001b[39;00m\n\u001b[1;32m----> <a href='vscode-notebook-cell:/c%3A/Users/DUC_AN/Documents/GitHub/CNET_ASSIGMENT/torrent_test.ipynb#W2sZmlsZQ%3D%3D?line=2'>3</a>\u001b[0m torrent \u001b[39m=\u001b[39m Torrent\u001b[39m.\u001b[39;49mread(\u001b[39m\"\u001b[39;49m\u001b[39masm1.torrent\u001b[39;49m\u001b[39m\"\u001b[39;49m)\n\u001b[0;32m      <a href='vscode-notebook-cell:/c%3A/Users/DUC_AN/Documents/GitHub/CNET_ASSIGMENT/torrent_test.ipynb#W2sZmlsZQ%3D%3D?line=4'>5</a>\u001b[0m info_hash \u001b[39m=\u001b[39m torrent\u001b[39m.\u001b[39minfohash\n\u001b[0;32m      <a href='vscode-notebook-cell:/c%3A/Users/DUC_AN/Documents/GitHub/CNET_ASSIGMENT/torrent_test.ipynb#W2sZmlsZQ%3D%3D?line=7'>8</a>\u001b[0m \u001b[39mdef\u001b[39;00m \u001b[39m_check_local_repo\u001b[39m(info_hash):\n",
      "File \u001b[1;32mc:\\ProgramData\\anaconda3\\envs\\cn\\Lib\\site-packages\\torf\\_torrent.py:1657\u001b[0m, in \u001b[0;36mTorrent.read\u001b[1;34m(cls, filepath, validate)\u001b[0m\n\u001b[0;32m   1655\u001b[0m         \u001b[39mreturn\u001b[39;00m \u001b[39mcls\u001b[39m\u001b[39m.\u001b[39mread_stream(f, validate\u001b[39m=\u001b[39mvalidate)\n\u001b[0;32m   1656\u001b[0m \u001b[39mexcept\u001b[39;00m (\u001b[39mOSError\u001b[39;00m, error\u001b[39m.\u001b[39mReadError) \u001b[39mas\u001b[39;00m e:\n\u001b[1;32m-> 1657\u001b[0m     \u001b[39mraise\u001b[39;00m error\u001b[39m.\u001b[39mReadError(e\u001b[39m.\u001b[39merrno, filepath)\n\u001b[0;32m   1658\u001b[0m \u001b[39mexcept\u001b[39;00m error\u001b[39m.\u001b[39mBdecodeError:\n\u001b[0;32m   1659\u001b[0m     \u001b[39mraise\u001b[39;00m error\u001b[39m.\u001b[39mBdecodeError(filepath)\n",
      "\u001b[1;31mReadError\u001b[0m: asm1.torrent: No such file or directory"
     ]
    }
   ],
   "source": [
    "import os\n",
    "\n",
    "torrent = Torrent.read(\"./torrents/asm1.torrent\")\n",
    "\n",
    "info_hash = torrent.infohash\n",
    "\n",
    "\n",
    "def _check_local_repo(info_hash):\n",
    "\n",
    "    torrent_files = [f for f in os.listdir(\"./\") if f.endswith(\".torrent\")]\n",
    "\n",
    "    print(torrent_files)\n",
    "\n",
    "    for torrent_file in torrent_files:\n",
    "\n",
    "        torrent = Torrent.read(torrent_file)\n",
    "\n",
    "        if torrent.infohash == info_hash:\n",
    "\n",
    "            return torrent_file\n",
    "\n",
    "    return None\n",
    "\n",
    "\n",
    "_check_local_repo(info_hash=info_hash)"
   ]
  },
  {
   "cell_type": "code",
   "execution_count": 5,
   "metadata": {},
   "outputs": [],
   "source": [
    "client_prefix = \"-ST0001-\"\n",
    "import random\n",
    "\n",
    "# random number 12 digits\n",
    "unique_component = str(random.randint(0, 999999999999)).zfill(12)\n",
    "id = f\"{client_prefix}{unique_component}\""
   ]
  },
  {
   "cell_type": "code",
   "execution_count": 6,
   "metadata": {},
   "outputs": [
    {
     "name": "stdout",
     "output_type": "stream",
     "text": [
      "20\n"
     ]
    },
    {
     "ename": "NameError",
     "evalue": "name 'torrent' is not defined",
     "output_type": "error",
     "traceback": [
      "\u001b[1;31m---------------------------------------------------------------------------\u001b[0m",
      "\u001b[1;31mNameError\u001b[0m                                 Traceback (most recent call last)",
      "\u001b[1;32mc:\\Users\\DUC_AN\\Documents\\GitHub\\CNET_ASSIGMENT\\torrent_test.ipynb Cell 5\u001b[0m line \u001b[0;36m4\n\u001b[0;32m      <a href='vscode-notebook-cell:/c%3A/Users/DUC_AN/Documents/GitHub/CNET_ASSIGMENT/torrent_test.ipynb#W4sZmlsZQ%3D%3D?line=0'>1</a>\u001b[0m \u001b[39mimport\u001b[39;00m \u001b[39mstruct\u001b[39;00m\n\u001b[0;32m      <a href='vscode-notebook-cell:/c%3A/Users/DUC_AN/Documents/GitHub/CNET_ASSIGMENT/torrent_test.ipynb#W4sZmlsZQ%3D%3D?line=2'>3</a>\u001b[0m \u001b[39mprint\u001b[39m(\u001b[39mlen\u001b[39m(\u001b[39mid\u001b[39m))\n\u001b[1;32m----> <a href='vscode-notebook-cell:/c%3A/Users/DUC_AN/Documents/GitHub/CNET_ASSIGMENT/torrent_test.ipynb#W4sZmlsZQ%3D%3D?line=3'>4</a>\u001b[0m info_hash \u001b[39m=\u001b[39m torrent\u001b[39m.\u001b[39minfohash\n\u001b[0;32m      <a href='vscode-notebook-cell:/c%3A/Users/DUC_AN/Documents/GitHub/CNET_ASSIGMENT/torrent_test.ipynb#W4sZmlsZQ%3D%3D?line=4'>5</a>\u001b[0m pstrlen \u001b[39m=\u001b[39m struct\u001b[39m.\u001b[39mpack(\u001b[39m\"\u001b[39m\u001b[39mB\u001b[39m\u001b[39m\"\u001b[39m, \u001b[39m19\u001b[39m)\n\u001b[0;32m      <a href='vscode-notebook-cell:/c%3A/Users/DUC_AN/Documents/GitHub/CNET_ASSIGMENT/torrent_test.ipynb#W4sZmlsZQ%3D%3D?line=5'>6</a>\u001b[0m pstr \u001b[39m=\u001b[39m \u001b[39mb\u001b[39m\u001b[39m\"\u001b[39m\u001b[39mBitTorrent protocol\u001b[39m\u001b[39m\"\u001b[39m\n",
      "\u001b[1;31mNameError\u001b[0m: name 'torrent' is not defined"
     ]
    }
   ],
   "source": [
    "import struct\n",
    "\n",
    "print(len(id))\n",
    "info_hash = torrent.infohash\n",
    "pstrlen = struct.pack(\"B\", 19)\n",
    "pstr = b\"BitTorrent protocol\"\n",
    "reserved = b\"\\x00\" * 8\n",
    "info_hash = bytes.fromhex(info_hash)\n",
    "print(len(info_hash))\n",
    "handshake = pstrlen + pstr + reserved + info_hash + id.encode(\"utf-8\")\n",
    "\n",
    "print(handshake)\n",
    "print(len(handshake))"
   ]
  },
  {
   "cell_type": "code",
   "execution_count": 2,
   "metadata": {},
   "outputs": [
    {
     "ename": "NameError",
     "evalue": "name 'struct' is not defined",
     "output_type": "error",
     "traceback": [
      "\u001b[1;31m---------------------------------------------------------------------------\u001b[0m",
      "\u001b[1;31mNameError\u001b[0m                                 Traceback (most recent call last)",
      "\u001b[1;32mc:\\Users\\DUC_AN\\Documents\\GitHub\\CNET_ASSIGMENT\\torrent_test.ipynb Cell 6\u001b[0m line \u001b[0;36m1\n\u001b[1;32m----> <a href='vscode-notebook-cell:/c%3A/Users/DUC_AN/Documents/GitHub/CNET_ASSIGMENT/torrent_test.ipynb#W5sZmlsZQ%3D%3D?line=0'>1</a>\u001b[0m pstrlen \u001b[39m=\u001b[39m struct\u001b[39m.\u001b[39munpack(\u001b[39m\"\u001b[39m\u001b[39mB\u001b[39m\u001b[39m\"\u001b[39m, handshake[\u001b[39m0\u001b[39m:\u001b[39m1\u001b[39m])[\u001b[39m0\u001b[39m]\n\u001b[0;32m      <a href='vscode-notebook-cell:/c%3A/Users/DUC_AN/Documents/GitHub/CNET_ASSIGMENT/torrent_test.ipynb#W5sZmlsZQ%3D%3D?line=1'>2</a>\u001b[0m pstr \u001b[39m=\u001b[39m handshake[\u001b[39m1\u001b[39m:\u001b[39m20\u001b[39m]\n\u001b[0;32m      <a href='vscode-notebook-cell:/c%3A/Users/DUC_AN/Documents/GitHub/CNET_ASSIGMENT/torrent_test.ipynb#W5sZmlsZQ%3D%3D?line=2'>3</a>\u001b[0m reserved \u001b[39m=\u001b[39m handshake[\u001b[39m20\u001b[39m:\u001b[39m28\u001b[39m]\n",
      "\u001b[1;31mNameError\u001b[0m: name 'struct' is not defined"
     ]
    }
   ],
   "source": [
    "pstrlen = struct.unpack(\"B\", handshake[0:1])[0]\n",
    "pstr = handshake[1:20]\n",
    "reserved = handshake[20:28]\n",
    "info_hash = handshake[28:48]\n",
    "peer_id = handshake[48:]\n",
    "\n",
    "print(pstrlen)\n",
    "print(pstr.decode())\n",
    "print(reserved.hex())\n",
    "print(info_hash.hex())\n",
    "print(peer_id.decode(\"utf-8\"))\n",
    "\n",
    "print(torrent.infohash)"
   ]
  }
 ],
 "metadata": {
  "kernelspec": {
   "display_name": "cn",
   "language": "python",
   "name": "python3"
  },
  "language_info": {
   "codemirror_mode": {
    "name": "ipython",
    "version": 3
   },
   "file_extension": ".py",
   "mimetype": "text/x-python",
   "name": "python",
   "nbconvert_exporter": "python",
   "pygments_lexer": "ipython3",
   "version": "3.13.0"
  }
 },
 "nbformat": 4,
 "nbformat_minor": 2
}
