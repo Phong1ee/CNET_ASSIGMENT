{
 "cells": [
  {
   "cell_type": "code",
   "execution_count": 1,
   "metadata": {},
   "outputs": [],
   "source": [
    "from torf import Torrent\n",
    "import hashlib\n",
    "from math import ceil"
   ]
  },
  {
   "cell_type": "code",
   "execution_count": 11,
   "metadata": {},
   "outputs": [],
   "source": []
  },
  {
   "cell_type": "code",
   "execution_count": 12,
   "metadata": {},
   "outputs": [
    {
     "data": {
      "text/plain": [
       "'54726d76b8fb9e7ed6be7ee1aa1fb4ce0b1b42bf'"
      ]
     },
     "execution_count": 12,
     "metadata": {},
     "output_type": "execute_result"
    }
   ],
   "source": [
    "tor.infohash"
   ]
  },
  {
   "cell_type": "code",
   "execution_count": 13,
   "metadata": {},
   "outputs": [
    {
     "name": "stdout",
     "output_type": "stream",
     "text": [
      "54726d76b8fb9e7ed6be7ee1aa1fb4ce0b1b42bf 06de87bdfd7b978ac410a210d121018095cb5247\n",
      "5 6\n",
      "2185794 3083740\n",
      "[File('pic.jpg', size=2185794)] [File('wallpapers\\\\turquoise_mountains_art_4k_hd_turquoise.jpg', size=2185794), File('wallpapers\\\\wallpaper.jpg', size=897946)]\n"
     ]
    }
   ],
   "source": [
    "print(tor.infohash, tor2.infohash)\n",
    "print(tor.pieces, tor2.pieces)\n",
    "print(tor.size, tor2.size)\n",
    "print(tor.files, tor2.files)"
   ]
  },
  {
   "cell_type": "code",
   "execution_count": 14,
   "metadata": {},
   "outputs": [
    {
     "name": "stdout",
     "output_type": "stream",
     "text": [
      "turquoise_mountains_art_4k_hd_turquoise.jpg 2185794\n",
      "wallpaper.jpg 897946\n"
     ]
    }
   ],
   "source": [
    "for file in tor2.files:\n",
    "    print(file.name, file.size)"
   ]
  },
  {
   "cell_type": "code",
   "execution_count": 15,
   "metadata": {},
   "outputs": [
    {
     "name": "stdout",
     "output_type": "stream",
     "text": [
      "5\n",
      "4.169071197509766\n",
      "88642\n",
      "2\n",
      "1.7126960754394531\n",
      "373658\n"
     ]
    }
   ],
   "source": [
    "print(ceil(tor2.files[0].size / 524288))\n",
    "print(tor2.files[0].size / 524288)\n",
    "print(tor2.files[0].size % 524288)\n",
    "\n",
    "print(ceil(tor2.files[1].size / 524288))\n",
    "print(tor2.files[1].size / 524288)\n",
    "print(tor2.files[1].size % 524288)"
   ]
  },
  {
   "cell_type": "code",
   "execution_count": 16,
   "metadata": {},
   "outputs": [
    {
     "name": "stdout",
     "output_type": "stream",
     "text": [
      "File Name: pic.jpg\n",
      "File Size: 2185794\n",
      "Number of Files: 1\n",
      "Trackers: []\n"
     ]
    }
   ],
   "source": [
    "# Extract the name of the file\n",
    "file_name = tor.name\n",
    "print(\"File Name:\", file_name)\n",
    "\n",
    "# Extract the size of the file\n",
    "file_size = tor.size\n",
    "print(\"File Size:\", file_size)\n",
    "\n",
    "# Extract the number of files in the torrent\n",
    "num_files = len(tor.files)\n",
    "print(\"Number of Files:\", num_files)\n",
    "\n",
    "# Extract the trackers used in the torrent\n",
    "trackers = tor.trackers\n",
    "print(\"Trackers:\", trackers)"
   ]
  },
  {
   "cell_type": "code",
   "execution_count": 17,
   "metadata": {},
   "outputs": [
    {
     "name": "stdout",
     "output_type": "stream",
     "text": [
      "trailing_end:  88642\n"
     ]
    }
   ],
   "source": [
    "torrent = Torrent.read(\"pic.torrent\")\n",
    "files = {}\n",
    "pointer = 0\n",
    "for f in torrent.files:\n",
    "    trailing_start = 0\n",
    "    trailing_end = 0\n",
    "    size = f.size\n",
    "    name = f.name\n",
    "    if pointer % torrent.piece_size != 0:\n",
    "        trailing_start = torrent.piece_size - pointer % torrent.piece_size\n",
    "        print(\"trailing_start: \", trailing_start)\n",
    "    end = pointer + size\n",
    "    if end % torrent.piece_size != 0:\n",
    "        trailing_end = end % torrent.piece_size\n",
    "        print(\"trailing_end: \", trailing_end)\n",
    "    pointer += size\n",
    "    files[name] = {\"trail_start\": trailing_start, \"trail_end\": trailing_end}"
   ]
  },
  {
   "cell_type": "code",
   "execution_count": 18,
   "metadata": {},
   "outputs": [
    {
     "name": "stdout",
     "output_type": "stream",
     "text": [
      "trailing_start 0\n",
      "trailing_end 88642\n",
      "pic.jpg\n",
      "initial size 2185794\n",
      "middle 1661506\n",
      "middle 1137218\n",
      "middle 612930\n",
      "middle 88642\n",
      "after trailing end 0\n"
     ]
    }
   ],
   "source": [
    "piece_idx = 0\n",
    "for f in torrent.files:\n",
    "    trailing_start = files[f.name][\"trail_start\"]\n",
    "    trailing_end = files[f.name][\"trail_end\"]\n",
    "    print(\"trailing_start\", trailing_start)\n",
    "    print(\"trailing_end\", trailing_end)\n",
    "    name = f.name\n",
    "    size = f.size\n",
    "    print(name)\n",
    "    print(\"initial size\", size)\n",
    "    with open(name, \"wb\") as file:\n",
    "        if trailing_start:\n",
    "            size -= trailing_start\n",
    "            print(\"after trailing start\", size)\n",
    "            piece_idx += 1\n",
    "        while size >= torrent.piece_size:\n",
    "            size -= torrent.piece_size\n",
    "            print(\"middle\", size)\n",
    "            piece_idx += 1\n",
    "        if trailing_end:\n",
    "            size -= trailing_end\n",
    "            print(\"after trailing end\", size)"
   ]
  },
  {
   "cell_type": "code",
   "execution_count": 19,
   "metadata": {},
   "outputs": [
    {
     "name": "stdout",
     "output_type": "stream",
     "text": [
      "5\n",
      "b'\\x7f\\x9a\\xc30X\\x1b\\xaa\\xa3\\x11;\\x11U\\x99\\xcd~\\xa5#\\x05\\xe01'\n",
      "b'|\\xe3\\xf1\\xc5=^0\\xa7r\\xc5\\xf0\\xeb$+z|\\t\\xe9\\xbc\\x08'\n",
      "b'D%\\x9d\\xe6\\x05\\xac\\x8fP)\\x12\\x05\\x03\\x16P\\x83i\\xd1\\x1f\\xd5\\xda'\n",
      "b'\\xe7\\xa4\\x94\\x05\\xf9^P,\\xa7\\x06\\xbd\\r\\x08\\x989\\xbd\\x93\\xfaK\\xad'\n",
      "b'o\\xe9\\xad\\x8d\\x17\\xe5\\xd2f\\xb9tDv\\xa0\\n\\xf6\\xd3\\xab\\xf5\\x82Z'\n"
     ]
    }
   ],
   "source": [
    "print(torrent.pieces)\n",
    "for piece_idx in range(0, torrent.pieces):\n",
    "    print(torrent.hashes[piece_idx])"
   ]
  },
  {
   "cell_type": "code",
   "execution_count": 20,
   "metadata": {},
   "outputs": [
    {
     "data": {
      "text/plain": [
       "'multifile'"
      ]
     },
     "execution_count": 20,
     "metadata": {},
     "output_type": "execute_result"
    }
   ],
   "source": [
    "tor2.mode"
   ]
  },
  {
   "cell_type": "code",
   "execution_count": 21,
   "metadata": {},
   "outputs": [
    {
     "data": {
      "text/plain": [
       "{'files': [{'length': 2185794,\n",
       "   'path': ['turquoise_mountains_art_4k_hd_turquoise.jpg']},\n",
       "  {'length': 897946, 'path': ['wallpaper.jpg']}],\n",
       " 'name': 'wallpapers',\n",
       " 'piece length': 524288,\n",
       " 'pieces': b'\\x7f\\x9a\\xc30X\\x1b\\xaa\\xa3\\x11;\\x11U\\x99\\xcd~\\xa5#\\x05\\xe01|\\xe3\\xf1\\xc5=^0\\xa7r\\xc5\\xf0\\xeb$+z|\\t\\xe9\\xbc\\x08D%\\x9d\\xe6\\x05\\xac\\x8fP)\\x12\\x05\\x03\\x16P\\x83i\\xd1\\x1f\\xd5\\xda\\xe7\\xa4\\x94\\x05\\xf9^P,\\xa7\\x06\\xbd\\r\\x08\\x989\\xbd\\x93\\xfaK\\xad\\x87j\\xb3\\xfc\\xfd\\x7f\\xb0\\xd9\\x8eA[N\\xca5\\xb5x\\x95V\\xa9c\\xeaZ\\xb0w\\xfc\\x86a9\\x0e\\xf25~\\xc4\\xa6v{\\x84<g\\x87'}"
      ]
     },
     "execution_count": 21,
     "metadata": {},
     "output_type": "execute_result"
    }
   ],
   "source": [
    "tor2.metainfo[\"info\"]"
   ]
  },
  {
   "cell_type": "code",
   "execution_count": 2,
   "metadata": {},
   "outputs": [
    {
     "name": "stdout",
     "output_type": "stream",
     "text": [
      "524288\n",
      "Piece hash matches\n"
     ]
    }
   ],
   "source": [
    "import hashlib\n",
    "\n",
    "\n",
    "def _read_piece(torrent, piece_idx):\n",
    "    if torrent.mode == \"singlefile\":\n",
    "        offset = piece_idx * torrent.piece_size\n",
    "        try:\n",
    "            with open(torrent.name, \"rb\") as file:\n",
    "                file.seek(offset)\n",
    "                data = file.read(torrent.piece_size)\n",
    "                if not data:\n",
    "                    return None\n",
    "                return data\n",
    "        except FileNotFoundError as e:\n",
    "            print(f\"File not found: {e}\")\n",
    "            return None\n",
    "        except IOError as e:\n",
    "            print(f\"Error reading file: {e}\")\n",
    "            return None\n",
    "\n",
    "    else:\n",
    "        # Handle multi-file mode (if needed)\n",
    "        pass\n",
    "\n",
    "\n",
    "torrent = Torrent.read(\"compnet.torrent\")\n",
    "\n",
    "print(torrent.name)\n",
    "\n",
    "data = _read_piece(torrent, 2)\n",
    "print(len(data))\n",
    "hash = hashlib.sha1(data).digest()\n",
    "if hash == torrent.hashes[2]:\n",
    "    print(\"Piece hash matches\")"
   ]
  },
  {
   "cell_type": "code",
   "execution_count": 8,
   "metadata": {},
   "outputs": [
    {
     "name": "stdout",
     "output_type": "stream",
     "text": [
      "['asm1.torrent', 'compnet.torrent']\n"
     ]
    },
    {
     "data": {
      "text/plain": [
       "'asm1.torrent'"
      ]
     },
     "execution_count": 8,
     "metadata": {},
     "output_type": "execute_result"
    }
   ],
   "source": [
    "import os\n",
    "\n",
    "torrent = Torrent.read(\"asm1.torrent\")\n",
    "\n",
    "info_hash = torrent.infohash\n",
    "\n",
    "\n",
    "\n",
    "def _check_local_repo(info_hash):\n",
    "\n",
    "\n",
    "    torrent_files = [f for f in os.listdir(\"./\") if f.endswith(\".torrent\")]\n",
    "\n",
    "\n",
    "    print(torrent_files)\n",
    "\n",
    "\n",
    "    for torrent_file in torrent_files:\n",
    "\n",
    "\n",
    "        torrent = Torrent.read(torrent_file)\n",
    "\n",
    "\n",
    "        if torrent.infohash == info_hash:\n",
    "\n",
    "\n",
    "            return torrent_file\n",
    "\n",
    "\n",
    "    return None\n",
    "\n",
    "\n",
    "\n",
    "_check_local_repo(info_hash=info_hash)"
   ]
  }
 ],
 "metadata": {
  "kernelspec": {
   "display_name": "cn",
   "language": "python",
   "name": "python3"
  },
  "language_info": {
   "codemirror_mode": {
    "name": "ipython",
    "version": 3
   },
   "file_extension": ".py",
   "mimetype": "text/x-python",
   "name": "python",
   "nbconvert_exporter": "python",
   "pygments_lexer": "ipython3",
   "version": "3.13.0"
  }
 },
 "nbformat": 4,
 "nbformat_minor": 2
}
