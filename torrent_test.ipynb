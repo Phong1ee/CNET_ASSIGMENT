{
 "cells": [
  {
   "cell_type": "code",
   "execution_count": 8,
   "metadata": {},
   "outputs": [],
   "source": [
    "from torf import Torrent\n",
    "import hashlib\n",
    "from math import ceil\n",
    "import bencodepy"
   ]
  },
  {
   "cell_type": "code",
   "execution_count": 3,
   "metadata": {},
   "outputs": [
    {
     "name": "stdout",
     "output_type": "stream",
     "text": [
      "compnet.pdf\n",
      "524288\n",
      "Piece hash matches\n"
     ]
    }
   ],
   "source": [
    "import hashlib\n",
    "\n",
    "\n",
    "def _read_piece(torrent, piece_idx):\n",
    "    if torrent.mode == \"singlefile\":\n",
    "        offset = piece_idx * torrent.piece_size\n",
    "        try:\n",
    "            with open(torrent.name, \"rb\") as file:\n",
    "                file.seek(offset)\n",
    "                data = file.read(torrent.piece_size)\n",
    "                if not data:\n",
    "                    return None\n",
    "                return data\n",
    "        except FileNotFoundError as e:\n",
    "            print(f\"File not found: {e}\")\n",
    "            return None\n",
    "        except IOError as e:\n",
    "            print(f\"Error reading file: {e}\")\n",
    "            return None\n",
    "\n",
    "    else:\n",
    "        # Handle multi-file mode (if needed)\n",
    "        pass\n",
    "\n",
    "\n",
    "torrent = Torrent.read(\"compnet.torrent\")\n",
    "\n",
    "print(torrent.name)\n",
    "\n",
    "data = _read_piece(torrent, 2)\n",
    "print(len(data))\n",
    "hash = hashlib.sha1(data).digest()\n",
    "if hash == torrent.hashes[2]:\n",
    "    print(\"Piece hash matches\")"
   ]
  },
  {
   "cell_type": "code",
   "execution_count": 4,
   "metadata": {},
   "outputs": [
    {
     "name": "stdout",
     "output_type": "stream",
     "text": [
      "['asm1.torrent', 'compnet.torrent']\n"
     ]
    },
    {
     "data": {
      "text/plain": [
       "'asm1.torrent'"
      ]
     },
     "execution_count": 4,
     "metadata": {},
     "output_type": "execute_result"
    }
   ],
   "source": [
    "import os\n",
    "\n",
    "torrent = Torrent.read(\"asm1.torrent\")\n",
    "\n",
    "info_hash = torrent.infohash\n",
    "\n",
    "\n",
    "def _check_local_repo(info_hash):\n",
    "\n",
    "    torrent_files = [f for f in os.listdir(\"./\") if f.endswith(\".torrent\")]\n",
    "\n",
    "    print(torrent_files)\n",
    "\n",
    "    for torrent_file in torrent_files:\n",
    "\n",
    "        torrent = Torrent.read(torrent_file)\n",
    "\n",
    "        if torrent.infohash == info_hash:\n",
    "\n",
    "            return torrent_file\n",
    "\n",
    "    return None\n",
    "\n",
    "\n",
    "_check_local_repo(info_hash=info_hash)"
   ]
  },
  {
   "cell_type": "code",
   "execution_count": 79,
   "metadata": {},
   "outputs": [],
   "source": [
    "client_prefix = \"-ST0001-\"\n",
    "import random\n",
    "\n",
    "# random number 12 digits\n",
    "unique_component = str(random.randint(0, 999999999999)).zfill(12)\n",
    "id = f\"{client_prefix}{unique_component}\""
   ]
  },
  {
   "cell_type": "code",
   "execution_count": 107,
   "metadata": {},
   "outputs": [
    {
     "name": "stdout",
     "output_type": "stream",
     "text": [
      "20\n",
      "20\n",
      "b'\\x13BitTorrent protocol00000000G\\xee\\xd7?ZK\\r\\x0c!\\xa3\\xc3\\x81\\x00\\xcbA\\xb4q@:\\x80-ST0001-234897642375'\n",
      "68\n"
     ]
    }
   ],
   "source": [
    "import struct\n",
    "\n",
    "print(len(id))\n",
    "info_hash = torrent.infohash\n",
    "pstrlen = struct.pack(\"B\", 19)\n",
    "pstr = b\"BitTorrent protocol\"\n",
    "reserved = b\"\\x00\" * 8\n",
    "info_hash = bytes.fromhex(info_hash)\n",
    "print(len(info_hash))\n",
    "handshake = pstrlen + pstr + reserved + info_hash + id.encode(\"utf-8\")\n",
    "\n",
    "print(handshake)\n",
    "print(len(handshake))"
   ]
  },
  {
   "cell_type": "code",
   "execution_count": 112,
   "metadata": {},
   "outputs": [
    {
     "name": "stdout",
     "output_type": "stream",
     "text": [
      "19\n",
      "BitTorrent protocol\n",
      "3030303030303030\n",
      "47eed73f5a4b0d0c21a3c38100cb41b471403a80\n",
      "-ST0001-234897642375\n",
      "47eed73f5a4b0d0c21a3c38100cb41b471403a80\n"
     ]
    }
   ],
   "source": [
    "pstrlen = struct.unpack(\"B\", handshake[0:1])[0]\n",
    "pstr = handshake[1:20]\n",
    "reserved = handshake[20:28]\n",
    "info_hash = handshake[28:48]\n",
    "peer_id = handshake[48:]\n",
    "\n",
    "print(pstrlen)\n",
    "print(pstr.decode())\n",
    "print(reserved.hex())\n",
    "print(info_hash.hex())\n",
    "print(peer_id.decode(\"utf-8\"))\n",
    "\n",
    "print(torrent.infohash)"
   ]
  },
  {
   "cell_type": "code",
   "execution_count": 3,
   "metadata": {},
   "outputs": [
    {
     "ename": "MetainfoError",
     "evalue": "Invalid metainfo: Missing 'piece length' in ['info']",
     "output_type": "error",
     "traceback": [
      "\u001b[1;31m---------------------------------------------------------------------------\u001b[0m",
      "\u001b[1;31mMetainfoError\u001b[0m                             Traceback (most recent call last)",
      "Cell \u001b[1;32mIn[3], line 1\u001b[0m\n\u001b[1;32m----> 1\u001b[0m tor \u001b[38;5;241m=\u001b[39m \u001b[43mTorrent\u001b[49m\u001b[38;5;241;43m.\u001b[39;49m\u001b[43mread\u001b[49m\u001b[43m(\u001b[49m\u001b[38;5;124;43m'\u001b[39;49m\u001b[38;5;124;43mTO_BE_SHARED.torrent\u001b[39;49m\u001b[38;5;124;43m'\u001b[39;49m\u001b[43m)\u001b[49m\n",
      "File \u001b[1;32mc:\\Users\\nhdan\\anaconda3\\envs\\cn\\Lib\\site-packages\\torf\\_torrent.py:1655\u001b[0m, in \u001b[0;36mTorrent.read\u001b[1;34m(cls, filepath, validate)\u001b[0m\n\u001b[0;32m   1653\u001b[0m \u001b[38;5;28;01mtry\u001b[39;00m:\n\u001b[0;32m   1654\u001b[0m     \u001b[38;5;28;01mwith\u001b[39;00m \u001b[38;5;28mopen\u001b[39m(filepath, \u001b[38;5;124m'\u001b[39m\u001b[38;5;124mrb\u001b[39m\u001b[38;5;124m'\u001b[39m) \u001b[38;5;28;01mas\u001b[39;00m f:\n\u001b[1;32m-> 1655\u001b[0m         \u001b[38;5;28;01mreturn\u001b[39;00m \u001b[38;5;28;43mcls\u001b[39;49m\u001b[38;5;241;43m.\u001b[39;49m\u001b[43mread_stream\u001b[49m\u001b[43m(\u001b[49m\u001b[43mf\u001b[49m\u001b[43m,\u001b[49m\u001b[43m \u001b[49m\u001b[43mvalidate\u001b[49m\u001b[38;5;241;43m=\u001b[39;49m\u001b[43mvalidate\u001b[49m\u001b[43m)\u001b[49m\n\u001b[0;32m   1656\u001b[0m \u001b[38;5;28;01mexcept\u001b[39;00m (\u001b[38;5;167;01mOSError\u001b[39;00m, error\u001b[38;5;241m.\u001b[39mReadError) \u001b[38;5;28;01mas\u001b[39;00m e:\n\u001b[0;32m   1657\u001b[0m     \u001b[38;5;28;01mraise\u001b[39;00m error\u001b[38;5;241m.\u001b[39mReadError(e\u001b[38;5;241m.\u001b[39merrno, filepath)\n",
      "File \u001b[1;32mc:\\Users\\nhdan\\anaconda3\\envs\\cn\\Lib\\site-packages\\torf\\_torrent.py:1632\u001b[0m, in \u001b[0;36mTorrent.read_stream\u001b[1;34m(cls, stream, validate)\u001b[0m\n\u001b[0;32m   1629\u001b[0m     torrent\u001b[38;5;241m.\u001b[39mprivate \u001b[38;5;241m=\u001b[39m metainfo_enc[\u001b[38;5;124mb\u001b[39m\u001b[38;5;124m'\u001b[39m\u001b[38;5;124minfo\u001b[39m\u001b[38;5;124m'\u001b[39m][\u001b[38;5;124mb\u001b[39m\u001b[38;5;124m'\u001b[39m\u001b[38;5;124mprivate\u001b[39m\u001b[38;5;124m'\u001b[39m]\n\u001b[0;32m   1631\u001b[0m \u001b[38;5;28;01mif\u001b[39;00m validate:\n\u001b[1;32m-> 1632\u001b[0m     \u001b[43mtorrent\u001b[49m\u001b[38;5;241;43m.\u001b[39;49m\u001b[43mvalidate\u001b[49m\u001b[43m(\u001b[49m\u001b[43m)\u001b[49m\n\u001b[0;32m   1634\u001b[0m \u001b[38;5;28;01mreturn\u001b[39;00m torrent\n",
      "File \u001b[1;32mc:\\Users\\nhdan\\anaconda3\\envs\\cn\\Lib\\site-packages\\torf\\_torrent.py:1378\u001b[0m, in \u001b[0;36mTorrent.validate\u001b[1;34m(self)\u001b[0m\n\u001b[0;32m   1376\u001b[0m utils\u001b[38;5;241m.\u001b[39massert_type(md, (\u001b[38;5;124m'\u001b[39m\u001b[38;5;124minfo\u001b[39m\u001b[38;5;124m'\u001b[39m,), (\u001b[38;5;28mdict\u001b[39m,), must_exist\u001b[38;5;241m=\u001b[39m\u001b[38;5;28;01mTrue\u001b[39;00m)\n\u001b[0;32m   1377\u001b[0m utils\u001b[38;5;241m.\u001b[39massert_type(md, (\u001b[38;5;124m'\u001b[39m\u001b[38;5;124minfo\u001b[39m\u001b[38;5;124m'\u001b[39m, \u001b[38;5;124m'\u001b[39m\u001b[38;5;124mname\u001b[39m\u001b[38;5;124m'\u001b[39m), (\u001b[38;5;28mstr\u001b[39m, \u001b[38;5;28mbytes\u001b[39m), must_exist\u001b[38;5;241m=\u001b[39m\u001b[38;5;28;01mTrue\u001b[39;00m)\n\u001b[1;32m-> 1378\u001b[0m \u001b[43mutils\u001b[49m\u001b[38;5;241;43m.\u001b[39;49m\u001b[43massert_type\u001b[49m\u001b[43m(\u001b[49m\u001b[43mmd\u001b[49m\u001b[43m,\u001b[49m\u001b[43m \u001b[49m\u001b[43m(\u001b[49m\u001b[38;5;124;43m'\u001b[39;49m\u001b[38;5;124;43minfo\u001b[39;49m\u001b[38;5;124;43m'\u001b[39;49m\u001b[43m,\u001b[49m\u001b[43m \u001b[49m\u001b[38;5;124;43m'\u001b[39;49m\u001b[38;5;124;43mpiece length\u001b[39;49m\u001b[38;5;124;43m'\u001b[39;49m\u001b[43m)\u001b[49m\u001b[43m,\u001b[49m\u001b[43m \u001b[49m\u001b[43m(\u001b[49m\u001b[38;5;28;43mint\u001b[39;49m\u001b[43m,\u001b[49m\u001b[43m)\u001b[49m\u001b[43m,\u001b[49m\u001b[43m \u001b[49m\u001b[43mmust_exist\u001b[49m\u001b[38;5;241;43m=\u001b[39;49m\u001b[38;5;28;43;01mTrue\u001b[39;49;00m\u001b[43m,\u001b[49m\n\u001b[0;32m   1379\u001b[0m \u001b[43m                  \u001b[49m\u001b[43mcheck\u001b[49m\u001b[38;5;241;43m=\u001b[39;49m\u001b[43mutils\u001b[49m\u001b[38;5;241;43m.\u001b[39;49m\u001b[43mis_divisible_by_16_kib\u001b[49m\u001b[43m)\u001b[49m\n\u001b[0;32m   1380\u001b[0m utils\u001b[38;5;241m.\u001b[39massert_type(md, (\u001b[38;5;124m'\u001b[39m\u001b[38;5;124minfo\u001b[39m\u001b[38;5;124m'\u001b[39m, \u001b[38;5;124m'\u001b[39m\u001b[38;5;124mpieces\u001b[39m\u001b[38;5;124m'\u001b[39m), (\u001b[38;5;28mbytes\u001b[39m,), must_exist\u001b[38;5;241m=\u001b[39m\u001b[38;5;28;01mTrue\u001b[39;00m)\n\u001b[0;32m   1381\u001b[0m utils\u001b[38;5;241m.\u001b[39massert_type(md, (\u001b[38;5;124m'\u001b[39m\u001b[38;5;124minfo\u001b[39m\u001b[38;5;124m'\u001b[39m, \u001b[38;5;124m'\u001b[39m\u001b[38;5;124mprivate\u001b[39m\u001b[38;5;124m'\u001b[39m), (\u001b[38;5;28mbool\u001b[39m, \u001b[38;5;28mint\u001b[39m), must_exist\u001b[38;5;241m=\u001b[39m\u001b[38;5;28;01mFalse\u001b[39;00m)\n",
      "File \u001b[1;32mc:\\Users\\nhdan\\anaconda3\\envs\\cn\\Lib\\site-packages\\torf\\_utils.py:712\u001b[0m, in \u001b[0;36massert_type\u001b[1;34m(obj, keys, exp_types, must_exist, check)\u001b[0m\n\u001b[0;32m    710\u001b[0m \u001b[38;5;28;01mif\u001b[39;00m must_exist:\n\u001b[0;32m    711\u001b[0m     \u001b[38;5;28;01mif\u001b[39;00m keychain_str:\n\u001b[1;32m--> 712\u001b[0m         \u001b[38;5;28;01mraise\u001b[39;00m error\u001b[38;5;241m.\u001b[39mMetainfoError(\u001b[38;5;124mf\u001b[39m\u001b[38;5;124m'\u001b[39m\u001b[38;5;124mMissing \u001b[39m\u001b[38;5;132;01m{\u001b[39;00mkey\u001b[38;5;132;01m!r}\u001b[39;00m\u001b[38;5;124m in \u001b[39m\u001b[38;5;132;01m{\u001b[39;00mkeychain_str\u001b[38;5;132;01m}\u001b[39;00m\u001b[38;5;124m'\u001b[39m)\n\u001b[0;32m    713\u001b[0m     \u001b[38;5;28;01melse\u001b[39;00m:\n\u001b[0;32m    714\u001b[0m         \u001b[38;5;28;01mraise\u001b[39;00m error\u001b[38;5;241m.\u001b[39mMetainfoError(\u001b[38;5;124mf\u001b[39m\u001b[38;5;124m'\u001b[39m\u001b[38;5;124mMissing \u001b[39m\u001b[38;5;132;01m{\u001b[39;00mkey\u001b[38;5;132;01m!r}\u001b[39;00m\u001b[38;5;124m'\u001b[39m)\n",
      "\u001b[1;31mMetainfoError\u001b[0m: Invalid metainfo: Missing 'piece length' in ['info']"
     ]
    }
   ],
   "source": [
    "tor = Torrent.read(\"TO_BE_SHARED.torrent\")"
   ]
  },
  {
   "cell_type": "code",
   "execution_count": 11,
   "metadata": {},
   "outputs": [
    {
     "name": "stdout",
     "output_type": "stream",
     "text": [
      "odict_keys([b'announce', b'info'])\n"
     ]
    }
   ],
   "source": [
    "data = None\n",
    "with open(\"TO_BE_SHARED.torrent\", \"rb\") as f:\n",
    "    data = bencodepy.decode(f.read())\n",
    "\n",
    "print(data.keys())"
   ]
  },
  {
   "cell_type": "code",
   "execution_count": 18,
   "metadata": {},
   "outputs": [
    {
     "data": {
      "text/plain": [
       "OrderedDict([(b'piece_length', 524288),\n",
       "             (b'pieces',\n",
       "              b'\\xd3\\xe6\\x06GQ\\xb7\\xb1okT\\xc0\\x1en;A\\xbd\\xbe\\xb8c\\xad(^\\x0cX\\xa6\\x13C\\xe0|Wv\\xb0\\xc7\\xaeY\\xaf\\x98\\x1c\\x1a\\xee\\x01Z\\xeb\\xd3?\\x9a-k\\x8bRj$\\x06d\\xe1\\x1c\\xfe\\xa1\\x08\\x1b\\x8f\\xdeEz\\xa3x\\xd7\\x03\\xcd\\x07u\\x88\\x8d^g\\xa7L\\xfa\\xfb\\xa0S\\xa2\\x84\\x98\\x81z\\x810nr\\xf8\\xc7\\xef\\xfe\\x95\\xaeX\\xf7!\\xb7\\xfc\\x81\\xabO&\\xd4\\xcdL\\'\\x9d\\xfa\\x15)\\xe1\\xa16#\\xc5\\x03\\x1d\\xc9?r~i\\xe8Qa?\\x15\\xadcK\\xd7\\xf3\\xb1\\x08@\\xf4S\\xc5\\x8f\\xf5y\\x986G\\'kc\\x0f\\x8f\\xa3\\x89\\xa0\\x12\\x90\\xf4\\xee\\nR\\xa0\\x0b\\x84aY<\\xe34\\t\\xd7\\xc5\\xd0A\\x16\\x99\\xcb\\xf9\\xcd\\xa3\\xa5K\\x86\"\\xc3\\x18=\\x95dB#\\xac\\xf4\\x0b\\x97\\xb4\\'\\x1a\\xb3\\x9e\\xda9\\xa3\\xee^kK\\r2U\\xbf\\xef\\x95`\\x18\\x90\\xaf\\xd8\\x07\\t'),\n",
       "             (b'name', b'TO_BE_SHARED'),\n",
       "             (b'files',\n",
       "              [OrderedDict([(b'length', 4176243),\n",
       "                            (b'path',\n",
       "                             [b'TO_BE_SHARED', b'shared', b'Task 4.pdf'])]),\n",
       "               OrderedDict([(b'length', 27),\n",
       "                            (b'path',\n",
       "                             [b'TO_BE_SHARED',\n",
       "                              b'shared',\n",
       "                              b'test',\n",
       "                              b'file1.txt'])]),\n",
       "               OrderedDict([(b'length', 28),\n",
       "                            (b'path',\n",
       "                             [b'TO_BE_SHARED',\n",
       "                              b'shared',\n",
       "                              b'test',\n",
       "                              b'file2.txt'])]),\n",
       "               OrderedDict([(b'length', 0),\n",
       "                            (b'path',\n",
       "                             [b'TO_BE_SHARED',\n",
       "                              b'shared',\n",
       "                              b'test',\n",
       "                              b'test1',\n",
       "                              b'file1_1.txt'])])])])"
      ]
     },
     "execution_count": 18,
     "metadata": {},
     "output_type": "execute_result"
    }
   ],
   "source": [
    "data[b\"info\"]"
   ]
  },
  {
   "cell_type": "code",
   "execution_count": 39,
   "metadata": {},
   "outputs": [
    {
     "data": {
      "text/plain": [
       "b'(^\\x0cX\\xa6\\x13C\\xe0|Wv\\xb0\\xc7\\xaeY\\xaf\\x98\\x1c\\x1a\\xee'"
      ]
     },
     "execution_count": 39,
     "metadata": {},
     "output_type": "execute_result"
    }
   ],
   "source": [
    "hash1 = data[b\"info\"][b\"pieces\"][20:40]\n",
    "hash1"
   ]
  },
  {
   "cell_type": "code",
   "execution_count": 26,
   "metadata": {},
   "outputs": [],
   "source": [
    "tor = Torrent.read(\"MY_TO_BE_SHARED.torrent\")"
   ]
  },
  {
   "cell_type": "code",
   "execution_count": 40,
   "metadata": {},
   "outputs": [
    {
     "data": {
      "text/plain": [
       "b'\\x01Z\\xeb\\xd3?\\x9a-k\\x8bRj$\\x06d\\xe1\\x1c\\xfe\\xa1\\x08\\x1b'"
      ]
     },
     "execution_count": 40,
     "metadata": {},
     "output_type": "execute_result"
    }
   ],
   "source": [
    "tor.hashes[2]"
   ]
  },
  {
   "cell_type": "code",
   "execution_count": 48,
   "metadata": {},
   "outputs": [
    {
     "name": "stdout",
     "output_type": "stream",
     "text": [
      "True\n"
     ]
    }
   ],
   "source": [
    "print(data[b\"info\"][b\"pieces\"][100:120] == tor.hashes[5])"
   ]
  },
  {
   "cell_type": "code",
   "execution_count": null,
   "metadata": {},
   "outputs": [],
   "source": []
  }
 ],
 "metadata": {
  "kernelspec": {
   "display_name": "cn",
   "language": "python",
   "name": "python3"
  },
  "language_info": {
   "codemirror_mode": {
    "name": "ipython",
    "version": 3
   },
   "file_extension": ".py",
   "mimetype": "text/x-python",
   "name": "python",
   "nbconvert_exporter": "python",
   "pygments_lexer": "ipython3",
   "version": "3.13.0"
  }
 },
 "nbformat": 4,
 "nbformat_minor": 2
}
