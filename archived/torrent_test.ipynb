{
 "cells": [
  {
   "cell_type": "code",
   "execution_count": 1,
   "metadata": {},
   "outputs": [],
   "source": [
    "# from Torrent import Torrent\n",
    "import torf\n",
    "import Torrent\n",
    "import hashlib\n",
    "import struct\n",
    "from math import ceil\n",
    "from DownloadManager import DownloadManager\n",
    "import bencodepy\n",
    "import os"
   ]
  },
  {
   "cell_type": "code",
   "execution_count": 2,
   "metadata": {},
   "outputs": [
    {
     "name": "stdout",
     "output_type": "stream",
     "text": [
      "generating torrent file for path:  ./download_path/slides/\n",
      "Torrent file created: C:\\Users\\DUC_AN\\Documents\\GitHub\\CNET_ASSIGMENT\\torrents\\new\\slides.torrent\n"
     ]
    },
    {
     "data": {
      "text/plain": [
       "WindowsPath('C:/Users/DUC_AN/Documents/GitHub/CNET_ASSIGMENT/torrents/new/slides.torrent')"
      ]
     },
     "execution_count": 2,
     "metadata": {},
     "output_type": "execute_result"
    }
   ],
   "source": [
    "Torrent.Torrent.generate_torrent(\n",
    "    \"./download_path/slides/\",\n",
    "    \"./torrents/new/\",\n",
    ")"
   ]
  },
  {
   "cell_type": "code",
   "execution_count": 3,
   "metadata": {},
   "outputs": [
    {
     "data": {
      "text/plain": [
       "'fa60ce51bba20a88df938f284c0249128a47aa07'"
      ]
     },
     "execution_count": 3,
     "metadata": {},
     "output_type": "execute_result"
    }
   ],
   "source": [
    "tor = Torrent.Torrent.read(\"./torrents/new/slides.torrent\")\n",
    "tor.infohash"
   ]
  },
  {
   "cell_type": "code",
   "execution_count": 4,
   "metadata": {},
   "outputs": [
    {
     "name": "stdout",
     "output_type": "stream",
     "text": [
      "OrderedDict({b'path': [b'Chapter_1 - Database System Concepts and Architecture.pdf'], b'length': 927949})\n",
      "OrderedDict({b'path': [b'Chapter_2-ERD.pdf'], b'length': 1905020})\n",
      "OrderedDict({b'path': [b'a', b'Chapter_7-Functional Dependencies & Normalization for Relational DBs.pdf'], b'length': 1795301})\n",
      "OrderedDict({b'path': [b'a', b'Chapter_8-1-97-Data Storage Indexing Structures for Files.pdf'], b'length': 3268228})\n",
      "OrderedDict({b'path': [b'a', b'Chapter_9 - Database Security.pdf'], b'length': 1321112})\n",
      "OrderedDict({b'path': [b'a', b'c', b'Chapter_4-RelationalDataModelAndRelationalMapping.pdf'], b'length': 2847343})\n",
      "OrderedDict({b'path': [b'a', b'c', b'Chapter_5-Relational Algebra.pdf'], b'length': 2034515})\n",
      "OrderedDict({b'path': [b'a', b'c', b'Chapter_6 - SQL.pdf'], b'length': 1859836})\n",
      "OrderedDict({b'path': [b'b', b'Chapter_3 - EERD.pdf'], b'length': 1633779})\n"
     ]
    }
   ],
   "source": [
    "with open(\"./torrents/new/slides.torrent\", \"rb\") as f:\n",
    "    data = f.read()\n",
    "data = bencodepy.decode(data)\n",
    "files = data[b\"info\"][b\"files\"]\n",
    "for file in files:\n",
    "    print(file)"
   ]
  },
  {
   "cell_type": "code",
   "execution_count": 5,
   "metadata": {},
   "outputs": [
    {
     "name": "stdout",
     "output_type": "stream",
     "text": [
      "Choose one of the available files:\n",
      "--------------------------------------------\n",
      "[0] asm1.pdf\n",
      "[1] chap2.pdf\n",
      "[2] chap7.pdf\n",
      "[3] compnet.pdf\n",
      "[4] sample.pdf\n",
      "[5] sample2.pdf\n",
      "[6] slides\n",
      "--------------------------------------------\n",
      "Invalid option. Please ony input 0->6 or 'q'\n",
      "Choose one of the available files:\n",
      "--------------------------------------------\n",
      "[0] asm1.pdf\n",
      "[1] chap2.pdf\n",
      "[2] chap7.pdf\n",
      "[3] compnet.pdf\n",
      "[4] sample.pdf\n",
      "[5] sample2.pdf\n",
      "[6] slides\n",
      "--------------------------------------------\n",
      "Invalid option. Please ony input 0->6 or 'q'\n",
      "Choose one of the available files:\n",
      "--------------------------------------------\n",
      "[0] asm1.pdf\n",
      "[1] chap2.pdf\n",
      "[2] chap7.pdf\n",
      "[3] compnet.pdf\n",
      "[4] sample.pdf\n",
      "[5] sample2.pdf\n",
      "[6] slides\n",
      "--------------------------------------------\n",
      "Invalid option. Please ony input 0->6 or 'q'\n",
      "Choose one of the available files:\n",
      "--------------------------------------------\n",
      "[0] asm1.pdf\n",
      "[1] chap2.pdf\n",
      "[2] chap7.pdf\n",
      "[3] compnet.pdf\n",
      "[4] sample.pdf\n",
      "[5] sample2.pdf\n",
      "[6] slides\n",
      "--------------------------------------------\n",
      "Invalid option. Please ony input 0->6 or 'q'\n",
      "Choose one of the available files:\n",
      "--------------------------------------------\n",
      "[0] asm1.pdf\n",
      "[1] chap2.pdf\n",
      "[2] chap7.pdf\n",
      "[3] compnet.pdf\n",
      "[4] sample.pdf\n",
      "[5] sample2.pdf\n",
      "[6] slides\n",
      "--------------------------------------------\n",
      "Invalid option. Please ony input 0->6 or 'q'\n",
      "Choose one of the available files:\n",
      "--------------------------------------------\n",
      "[0] asm1.pdf\n",
      "[1] chap2.pdf\n",
      "[2] chap7.pdf\n",
      "[3] compnet.pdf\n",
      "[4] sample.pdf\n",
      "[5] sample2.pdf\n",
      "[6] slides\n",
      "--------------------------------------------\n",
      "Invalid option. Please ony input 0->6 or 'q'\n",
      "Choose one of the available files:\n",
      "--------------------------------------------\n",
      "[0] asm1.pdf\n",
      "[1] chap2.pdf\n",
      "[2] chap7.pdf\n",
      "[3] compnet.pdf\n",
      "[4] sample.pdf\n",
      "[5] sample2.pdf\n",
      "[6] slides\n",
      "--------------------------------------------\n",
      "Invalid option. Please ony input 0->6 or 'q'\n",
      "Choose one of the available files:\n",
      "--------------------------------------------\n",
      "[0] asm1.pdf\n",
      "[1] chap2.pdf\n",
      "[2] chap7.pdf\n",
      "[3] compnet.pdf\n",
      "[4] sample.pdf\n",
      "[5] sample2.pdf\n",
      "[6] slides\n",
      "--------------------------------------------\n",
      "Invalid option. Please ony input 0->6 or 'q'\n",
      "Choose one of the available files:\n",
      "--------------------------------------------\n",
      "[0] asm1.pdf\n",
      "[1] chap2.pdf\n",
      "[2] chap7.pdf\n",
      "[3] compnet.pdf\n",
      "[4] sample.pdf\n",
      "[5] sample2.pdf\n",
      "[6] slides\n",
      "--------------------------------------------\n",
      "Invalid option. Please ony input 0->6 or 'q'\n",
      "Choose one of the available files:\n",
      "--------------------------------------------\n",
      "[0] asm1.pdf\n",
      "[1] chap2.pdf\n",
      "[2] chap7.pdf\n",
      "[3] compnet.pdf\n",
      "[4] sample.pdf\n",
      "[5] sample2.pdf\n",
      "[6] slides\n",
      "--------------------------------------------\n",
      "generating torrent file for path:  ./download_path/chap2.pdf\n",
      "Torrent file created: C:\\Users\\DUC_AN\\Documents\\GitHub\\CNET_ASSIGMENT\\torrents\\chap2.torrent\n",
      "--------------------------------------------\n",
      "Torrent file information:\n",
      "Name: chap2.pdf\n",
      "Infohash: 37cb296872ff2f21fc7929d3e1cad11a6c52e5cf\n",
      "Size: 4953576 bytes\n",
      "Piece size: 524288 bytes\n",
      "Number of files: 1\n",
      "Number of pieces: 10\n",
      "--------------------------------------------\n"
     ]
    },
    {
     "ename": "AttributeError",
     "evalue": "'NoneType' object has no attribute 'new_upload'",
     "output_type": "error",
     "traceback": [
      "\u001b[1;31m---------------------------------------------------------------------------\u001b[0m",
      "\u001b[1;31mAttributeError\u001b[0m                            Traceback (most recent call last)",
      "\u001b[1;32mc:\\Users\\DUC_AN\\Documents\\GitHub\\CNET_ASSIGMENT\\torrent_test.ipynb Cell 5\u001b[0m line \u001b[0;36m4\n\u001b[0;32m      <a href='vscode-notebook-cell:/c%3A/Users/DUC_AN/Documents/GitHub/CNET_ASSIGMENT/torrent_test.ipynb#X10sZmlsZQ%3D%3D?line=0'>1</a>\u001b[0m \u001b[39mfrom\u001b[39;00m \u001b[39mUserInterface\u001b[39;00m \u001b[39mimport\u001b[39;00m UserInterface\n\u001b[0;32m      <a href='vscode-notebook-cell:/c%3A/Users/DUC_AN/Documents/GitHub/CNET_ASSIGMENT/torrent_test.ipynb#X10sZmlsZQ%3D%3D?line=2'>3</a>\u001b[0m ui \u001b[39m=\u001b[39m UserInterface(\u001b[39m\"\u001b[39m\u001b[39m\"\u001b[39m, \u001b[39m\"\u001b[39m\u001b[39m\"\u001b[39m, \u001b[39m\"\u001b[39m\u001b[39m./torrents/\u001b[39m\u001b[39m\"\u001b[39m, \u001b[39m\"\u001b[39m\u001b[39m./download_path/\u001b[39m\u001b[39m\"\u001b[39m, \u001b[39mNone\u001b[39;00m, \u001b[39mNone\u001b[39;00m, \u001b[39mNone\u001b[39;00m)\n\u001b[1;32m----> <a href='vscode-notebook-cell:/c%3A/Users/DUC_AN/Documents/GitHub/CNET_ASSIGMENT/torrent_test.ipynb#X10sZmlsZQ%3D%3D?line=3'>4</a>\u001b[0m ui\u001b[39m.\u001b[39;49mnew_upload()\n\u001b[0;32m      <a href='vscode-notebook-cell:/c%3A/Users/DUC_AN/Documents/GitHub/CNET_ASSIGMENT/torrent_test.ipynb#X10sZmlsZQ%3D%3D?line=4'>5</a>\u001b[0m ui\u001b[39m.\u001b[39mnew_download()\n",
      "File \u001b[1;32mc:\\Users\\DUC_AN\\Documents\\GitHub\\CNET_ASSIGMENT\\UserInterface.py:124\u001b[0m, in \u001b[0;36mUserInterface.new_upload\u001b[1;34m(self)\u001b[0m\n\u001b[0;32m    121\u001b[0m \u001b[39mprint\u001b[39m(\u001b[39m\"\u001b[39m\u001b[39m--------------------------------------------\u001b[39m\u001b[39m\"\u001b[39m)\n\u001b[0;32m    123\u001b[0m \u001b[39m# Create the tracking variable in UploadManager\u001b[39;00m\n\u001b[1;32m--> 124\u001b[0m \u001b[39mself\u001b[39;49m\u001b[39m.\u001b[39;49muploadManager\u001b[39m.\u001b[39;49mnew_upload(torrent)\n\u001b[0;32m    125\u001b[0m \u001b[39mprint\u001b[39m(\u001b[39m\"\u001b[39m\u001b[39mUpload started for infohash: \u001b[39m\u001b[39m\"\u001b[39m, torrent\u001b[39m.\u001b[39minfohash)\n\u001b[0;32m    127\u001b[0m \u001b[39m# Announce the completed event to the tracker\u001b[39;00m\n",
      "\u001b[1;31mAttributeError\u001b[0m: 'NoneType' object has no attribute 'new_upload'"
     ]
    }
   ],
   "source": [
    "from UserInterface import UserInterface\n",
    "\n",
    "ui = UserInterface(\"\", \"\", \"./torrents/\", \"./download_path/\", None, None, None)\n",
    "ui.new_upload()\n",
    "ui.new_download()"
   ]
  },
  {
   "cell_type": "code",
   "execution_count": null,
   "metadata": {},
   "outputs": [
    {
     "name": "stdout",
     "output_type": "stream",
     "text": [
      "Choose one of the available torrents:\n",
      "--------------------------------------------\n",
      "[0] asm1.torrent\n",
      "[1] chap2.torrent\n",
      "[2] chap7.torrent\n",
      "[3] compnet.torrent\n",
      "[4] sample.torrent\n",
      "[5] sample2.torrent\n",
      "[6] slides.torrent\n",
      "--------------------------------------------\n",
      "--------------------------------------------\n",
      "Torrent file information:\n",
      "Name: slides\n",
      "Infohash: fa60ce51bba20a88df938f284c0249128a47aa07\n",
      "Size: 17593083 bytes\n",
      "Piece size: 524288 bytes\n",
      "Number of files: 9\n",
      "Number of pieces: 34\n",
      "--------------------------------------------\n"
     ]
    },
    {
     "ename": "AttributeError",
     "evalue": "'NoneType' object has no attribute 'download_announce'",
     "output_type": "error",
     "traceback": [
      "\u001b[1;31m---------------------------------------------------------------------------\u001b[0m",
      "\u001b[1;31mAttributeError\u001b[0m                            Traceback (most recent call last)",
      "\u001b[1;32mc:\\Users\\DUC_AN\\Documents\\GitHub\\CNET_ASSIGMENT\\torrent_test.ipynb Cell 5\u001b[0m line \u001b[0;36m1\n\u001b[1;32m----> <a href='vscode-notebook-cell:/c%3A/Users/DUC_AN/Documents/GitHub/CNET_ASSIGMENT/torrent_test.ipynb#X11sZmlsZQ%3D%3D?line=0'>1</a>\u001b[0m ui\u001b[39m.\u001b[39;49mnew_download()\n",
      "File \u001b[1;32mc:\\Users\\DUC_AN\\Documents\\GitHub\\CNET_ASSIGMENT\\UserInterface.py:87\u001b[0m, in \u001b[0;36mUserInterface.new_download\u001b[1;34m(self)\u001b[0m\n\u001b[0;32m     84\u001b[0m \u001b[39mprint\u001b[39m(\u001b[39m\"\u001b[39m\u001b[39m--------------------------------------------\u001b[39m\u001b[39m\"\u001b[39m)\n\u001b[0;32m     86\u001b[0m \u001b[39m# Send GET request to the tracker and get the peer list\u001b[39;00m\n\u001b[1;32m---> 87\u001b[0m peer_list \u001b[39m=\u001b[39m \u001b[39mself\u001b[39;49m\u001b[39m.\u001b[39;49mtrackerCommunicator\u001b[39m.\u001b[39;49mdownload_announce(torrent)\n\u001b[0;32m     88\u001b[0m \u001b[39m# print(\"Peer list: \", peer_list)\u001b[39;00m\n\u001b[0;32m     89\u001b[0m \u001b[39mif\u001b[39;00m peer_list \u001b[39mis\u001b[39;00m \u001b[39mNone\u001b[39;00m:\n",
      "\u001b[1;31mAttributeError\u001b[0m: 'NoneType' object has no attribute 'download_announce'"
     ]
    }
   ],
   "source": [
    "ui.new_download()"
   ]
  },
  {
   "cell_type": "code",
   "execution_count": null,
   "metadata": {},
   "outputs": [
    {
     "data": {
      "text/plain": [
       "{'info': {'name': 'slides',\n",
       "  'piece length': 524288,\n",
       "  'files': [{'path': ['Chapter_1 - Database System Concepts and Architecture.pdf'],\n",
       "    'length': 927949},\n",
       "   {'path': ['Chapter_2-ERD.pdf'], 'length': 1905020},\n",
       "   {'path': ['a',\n",
       "     'Chapter_7-Functional Dependencies & Normalization for Relational DBs.pdf'],\n",
       "    'length': 1795301},\n",
       "   {'path': ['a',\n",
       "     'Chapter_8-1-97-Data Storage Indexing Structures for Files.pdf'],\n",
       "    'length': 3268228},\n",
       "   {'path': ['a', 'Chapter_9 - Database Security.pdf'], 'length': 1321112},\n",
       "   {'path': ['a',\n",
       "     'c',\n",
       "     'Chapter_4-RelationalDataModelAndRelationalMapping.pdf'],\n",
       "    'length': 2847343},\n",
       "   {'path': ['a', 'c', 'Chapter_5-Relational Algebra.pdf'], 'length': 2034515},\n",
       "   {'path': ['a', 'c', 'Chapter_6 - SQL.pdf'], 'length': 1859836},\n",
       "   {'path': ['b', 'Chapter_3 - EERD.pdf'], 'length': 1633779}],\n",
       "  'pieces': b\"z\\xfb'~b\\x98\\x168m\\x1e\\xa1)\\x8c\\x87`\\xf3q\\xad\\x18\\x9d\\xc5\\x06\\x93\\x91\\xcd;\\xfb\\xd7\\xb8\\xbbaVV\\xc0\\x8c\\xa0\\xc0\\xf7\\x14 \\x9d\\xe9\\xe5\\t\\xea\\xd59$\\xed\\xd4\\xb5I\\xa1\\xe4\\x05\\xcb\\xdd\\xf7Y`8e2=N\\x19\\xba\\xfb\\x9f\\xee\\x81\\x08)\\xc8\\xf8[L\\x1d\\xafS\\xf6\\xb3\\xbe\\xd2;4\\x97\\x97\\xec\\xfb\\xdbCr\\x12\\xc58&T\\xa5\\x80\\x84\\x0b0\\x1b\\x9c2\\xb8!\\x97\\x82\\xe5&u\\x0ek\\xc6e\\xb4[\\xd15\\x19u\\x1f6y\\x9b\\xb6\\x90&Qb\\x8d\\x8b\\xec\\xd3\\xaf\\xdd\\x08sX\\xef\\xbd\\xf1jg\\xfd\\x1d$\\xca}\\x1b\\xcdY\\xabS\\x80\\xbf\\xd6^*\\xc9\\x1b\\xc2\\x19{mI\\x8f\\xb8\\xad\\xb7\\xf5\\x88\\xcal\\xa2\\x97\\xf5\\xdf2\\x18\\x9e$\\xe4\\xb8\\xe5bL\\xa1\\xb40\\xe4H\\xba\\xd7\\xed4=\\xe7\\x01\\x06\\x85\\x1e\\xe9\\x14.S|~\\xd8[V\\x13\\x17k!8\\x17\\x08w8\\x95\\xca1\\x9f\\xff\\x1a\\xf1A\\x92\\xb2\\xd9\\xdb\\xc5V\\x95\\t\\x10g\\xc1z\\xcb\\xa7\\x84p\\x08G\\x8b~S\\x91\\x9a\\x95\\x9bE\\x11\\xb9h\\x08\\xff\\x1d\\xd2\\x0e\\xfc\\xd1t\\x9d\\xa3y\\x01\\xd5\\x85ZR\\xf4q\\x80\\xca\\x02\\xbd\\xe4\\xca\\xb8p\\x16E\\xdc\\x08\\xe0\\xac\\x1bW\\xe8Zi\\xbbv\\xc7h#\\xff\\x0f\\xfd\\x9c\\xffy\\xdc\\x08\\xc3\\xe8z\\xa8H\\x8b\\xefi\\x88\\xfa.-\\xab\\x9f\\xdf\\xf6\\xccf\\xc4_\\x88\\xf0U4bP4\\xed\\xbf\\x1a\\xe4\\xe82\\xb4\\xabX\\xeao9\\xe4\\\\\\xa0 \\x8c+\\x13\\x9f\\xe8\\x18\\x7f\\x93\\xc1\\x00&\\x00\\xe3\\x12\\xff\\xf4\\x15\\xd1\\xc8\\xc5\\xed\\xee\\xbcP\\x18>\\x17\\x14u\\xe9\\x04\\xc8#`\\x8bX\\xc4\\x05\\x14.\\xd7P\\xe0Z\\x9c\\xf9\\x11\\x98W\\x10\\x06n\\x86\\r\\x91\\x93\\x93h\\xfb\\x8c\\xb5K\\x82\\n?\\xc9C\\xcf\\xfe\\x13\\xd9*\\xbbf8a8\\xbd\\x1e\\x11\\xf0\\xf6\\xd2\\xb1\\x99lh\\x12\\xf7\\xed\\xb7\\xa7\\xbd^\\x18\\xf0\\x8b\\x9d\\x81\\xaa\\xdbDsl\\\\k\\xdb\\x8aBq>\\xd8d\\xc2\\x80\\xaa\\x1f\\x16\\xb7\\xf2\\xb3CQ\\xf4\\xb9\\x15\\xa2\\xb5\\xeb\\xb0\\x80\\x92\\xc50;HN\\x8e\\xd5\\x97)\\xcd\\xa3\\xa2\\x8d\\xa6\\x965\\x87M\\xe9\\xcc\\xfe\\xdbyh\\xd0\\x0b\\xfc\\x97\\xeb]\\x8f>a\\xddP\\xd1\\x9dS\\x1b\\xdbX_\\x7f\\x1dA\\xb5\\xfa\\x000\\xd1\\xc8i\\xd8\\x95q\\n\\x825B\\xe2Is\\xa7jH\\xa8\\xf1\\xbcDc-\\xa2\\xb8\\xbc\\x044\\x8ej;\\xab\\x98\\x8ee\\xee.I\\xf1)\\x97\\xe0\\xc7\\x14U\\x14\\x8b\\xe1\\xdab\\x89JN\\x1a\\xd3_\\x08\\xc1\\x1c\\x1a\\x99v\\xcc\\x1d\\xebQG\\xeb\\n0\\xc3N\\xe1\\xb8\\xb5\\x1b-0\\x87T\\xf0\\x96\\xe8\\x95 \\xc5\\x93\\xe4\\xeb\\xd1\\xc99H\\xceB\\x84\\x12 &\\x18f\\xcbI\\x8b\\xb3D\\x8bD\\x8d\\xd2\\\\ !\\xa5j\\xae\\x00\\xf67N\\x1c\\xf1\\xce\\x0fc\\xfe\\x12\\xa5Y\\xff\\x12\\xc8w\\xfa\\x8d\\x8c\\xd8\\x86\\x1aa,\\xb4\\x11\\xc0\\xbe\\xec\\xf2\\xcc\"},\n",
       " 'created by': 'Duc An'}"
      ]
     },
     "execution_count": 10,
     "metadata": {},
     "output_type": "execute_result"
    }
   ],
   "source": [
    "tor = torf.Torrent.read(\"./torrents/new/slides.torrent\")\n",
    "tor.metainfo"
   ]
  }
 ],
 "metadata": {
  "kernelspec": {
   "display_name": "cn",
   "language": "python",
   "name": "python3"
  },
  "language_info": {
   "codemirror_mode": {
    "name": "ipython",
    "version": 3
   },
   "file_extension": ".py",
   "mimetype": "text/x-python",
   "name": "python",
   "nbconvert_exporter": "python",
   "pygments_lexer": "ipython3",
   "version": "3.13.0"
  }
 },
 "nbformat": 4,
 "nbformat_minor": 2
}
