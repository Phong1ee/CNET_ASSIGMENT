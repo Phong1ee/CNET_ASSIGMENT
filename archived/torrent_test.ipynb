{
 "cells": [
  {
   "cell_type": "code",
   "execution_count": 57,
   "metadata": {},
   "outputs": [],
   "source": [
    "from torf import Torrent\n",
    "import hashlib\n",
    "from math import ceil"
   ]
  },
  {
   "cell_type": "code",
   "execution_count": 76,
   "metadata": {},
   "outputs": [],
   "source": [
    "tor = Torrent.read(\"../pic.torrent\")\n",
    "tor2 = Torrent.read(\"../2pic.torrent\")"
   ]
  },
  {
   "cell_type": "code",
   "execution_count": 47,
   "metadata": {},
   "outputs": [
    {
     "data": {
      "text/plain": [
       "524288"
      ]
     },
     "execution_count": 47,
     "metadata": {},
     "output_type": "execute_result"
    }
   ],
   "source": [
    "tor.piece_size"
   ]
  },
  {
   "cell_type": "code",
   "execution_count": 39,
   "metadata": {},
   "outputs": [
    {
     "name": "stdout",
     "output_type": "stream",
     "text": [
      "54726d76b8fb9e7ed6be7ee1aa1fb4ce0b1b42bf 06de87bdfd7b978ac410a210d121018095cb5247\n",
      "5 6\n",
      "2185794 3083740\n",
      "[File('pic.jpg', size=2185794)] [File('wallpapers\\\\turquoise_mountains_art_4k_hd_turquoise.jpg', size=2185794), File('wallpapers\\\\wallpaper.jpg', size=897946)]\n"
     ]
    }
   ],
   "source": [
    "print(tor.infohash, tor2.infohash)\n",
    "print(tor.pieces, tor2.pieces)\n",
    "print(tor.size, tor2.size)\n",
    "print(tor.files, tor2.files)"
   ]
  },
  {
   "cell_type": "code",
   "execution_count": 45,
   "metadata": {},
   "outputs": [
    {
     "name": "stdout",
     "output_type": "stream",
     "text": [
      "turquoise_mountains_art_4k_hd_turquoise.jpg 2185794\n",
      "wallpaper.jpg 897946\n"
     ]
    }
   ],
   "source": [
    "for file in tor2.files:\n",
    "    print(file.name, file.size)"
   ]
  },
  {
   "cell_type": "code",
   "execution_count": 59,
   "metadata": {},
   "outputs": [
    {
     "name": "stdout",
     "output_type": "stream",
     "text": [
      "5\n",
      "4.169071197509766\n",
      "88642\n",
      "2\n",
      "1.7126960754394531\n",
      "373658\n"
     ]
    }
   ],
   "source": [
    "print(ceil(tor2.files[0].size / 524288))\n",
    "print(tor2.files[0].size / 524288)\n",
    "print(tor2.files[0].size % 524288)\n",
    "\n",
    "print(ceil(tor2.files[1].size / 524288))\n",
    "print(tor2.files[1].size / 524288)\n",
    "print(tor2.files[1].size % 524288)"
   ]
  },
  {
   "cell_type": "code",
   "execution_count": 24,
   "metadata": {},
   "outputs": [
    {
     "name": "stdout",
     "output_type": "stream",
     "text": [
      "File Name: pic.jpg\n",
      "File Size: 2185794\n",
      "Number of Files: 1\n",
      "Trackers: []\n"
     ]
    }
   ],
   "source": [
    "# Extract the name of the file\n",
    "file_name = tor.name\n",
    "print(\"File Name:\", file_name)\n",
    "\n",
    "# Extract the size of the file\n",
    "file_size = tor.size\n",
    "print(\"File Size:\", file_size)\n",
    "\n",
    "# Extract the number of files in the torrent\n",
    "num_files = len(tor.files)\n",
    "print(\"Number of Files:\", num_files)\n",
    "\n",
    "# Extract the trackers used in the torrent\n",
    "trackers = tor.trackers\n",
    "print(\"Trackers:\", trackers)"
   ]
  },
  {
   "cell_type": "code",
   "execution_count": 91,
   "metadata": {},
   "outputs": [
    {
     "data": {
      "text/plain": [
       "462300"
      ]
     },
     "execution_count": 91,
     "metadata": {},
     "output_type": "execute_result"
    }
   ],
   "source": [
    "3083740 - 5 * 524288"
   ]
  },
  {
   "cell_type": "code",
   "execution_count": 85,
   "metadata": {},
   "outputs": [
    {
     "data": {
      "text/plain": [
       "524288"
      ]
     },
     "execution_count": 85,
     "metadata": {},
     "output_type": "execute_result"
    }
   ],
   "source": [
    "435646 + 88642"
   ]
  },
  {
   "cell_type": "code",
   "execution_count": 111,
   "metadata": {},
   "outputs": [
    {
     "name": "stdout",
     "output_type": "stream",
     "text": [
      "trailing_end:  88642\n"
     ]
    }
   ],
   "source": [
    "torrent = Torrent.read(\"../pic.torrent\")\n",
    "files = {}\n",
    "pointer = 0\n",
    "for f in torrent.files:\n",
    "    trailing_start = 0\n",
    "    trailing_end = 0\n",
    "    size = f.size\n",
    "    name = f.name\n",
    "    if pointer % torrent.piece_size != 0:\n",
    "        trailing_start = torrent.piece_size - pointer % torrent.piece_size\n",
    "        print(\"trailing_start: \", trailing_start)\n",
    "    end = pointer + size\n",
    "    if end % torrent.piece_size != 0:\n",
    "        trailing_end = end % torrent.piece_size\n",
    "        print(\"trailing_end: \", trailing_end)\n",
    "    pointer += size\n",
    "    files[name] = {\"trail_start\": trailing_start, \"trail_end\": trailing_end}"
   ]
  },
  {
   "cell_type": "code",
   "execution_count": 110,
   "metadata": {},
   "outputs": [
    {
     "data": {
      "text/plain": [
       "524288"
      ]
     },
     "execution_count": 110,
     "metadata": {},
     "output_type": "execute_result"
    }
   ],
   "source": [
    "88642 + 435646"
   ]
  },
  {
   "cell_type": "code",
   "execution_count": 112,
   "metadata": {},
   "outputs": [
    {
     "name": "stdout",
     "output_type": "stream",
     "text": [
      "trailing_start 0\n",
      "trailing_end 88642\n",
      "pic.jpg\n",
      "initial size 2185794\n",
      "middle 1661506\n",
      "middle 1137218\n",
      "middle 612930\n",
      "middle 88642\n",
      "after trailing end 0\n"
     ]
    }
   ],
   "source": [
    "piece_idx = 0\n",
    "for f in torrent.files:\n",
    "    trailing_start = files[f.name][\"trail_start\"]\n",
    "    trailing_end = files[f.name][\"trail_end\"]\n",
    "    print(\"trailing_start\", trailing_start)\n",
    "    print(\"trailing_end\", trailing_end)\n",
    "    name = f.name\n",
    "    size = f.size\n",
    "    print(name)\n",
    "    print(\"initial size\", size)\n",
    "    with open(name, \"wb\") as file:\n",
    "        if trailing_start:\n",
    "            size -= trailing_start\n",
    "            print(\"after trailing start\", size)\n",
    "            piece_idx += 1\n",
    "        while size >= torrent.piece_size:\n",
    "            size -= torrent.piece_size\n",
    "            print(\"middle\", size)\n",
    "            piece_idx += 1\n",
    "        if trailing_end:\n",
    "            size -= trailing_end\n",
    "            print(\"after trailing end\", size)"
   ]
  }
 ],
 "metadata": {
  "kernelspec": {
   "display_name": "cn",
   "language": "python",
   "name": "python3"
  },
  "language_info": {
   "codemirror_mode": {
    "name": "ipython",
    "version": 3
   },
   "file_extension": ".py",
   "mimetype": "text/x-python",
   "name": "python",
   "nbconvert_exporter": "python",
   "pygments_lexer": "ipython3",
   "version": "3.13.0"
  }
 },
 "nbformat": 4,
 "nbformat_minor": 2
}
