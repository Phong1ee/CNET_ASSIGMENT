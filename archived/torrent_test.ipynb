{
 "cells": [
  {
   "cell_type": "code",
   "execution_count": 1,
   "metadata": {},
   "outputs": [],
   "source": [
    "from torf import Torrent\n",
    "import hashlib\n",
    "import struct\n",
    "from math import ceil\n",
    "import bencodepy\n",
    "import os"
   ]
  },
  {
   "cell_type": "code",
   "execution_count": 2,
   "metadata": {},
   "outputs": [],
   "source": [
    "# import hashlib\n",
    "\n",
    "\n",
    "# def _read_piece(torrent, piece_idx):\n",
    "#     if torrent.mode == \"singlefile\":\n",
    "#         offset = piece_idx * torrent.piece_size\n",
    "#         try:\n",
    "#             with open(torrent.name, \"rb\") as file:\n",
    "#                 file.seek(offset)\n",
    "#                 data = file.read(torrent.piece_size)\n",
    "#                 if not data:\n",
    "#                     return None\n",
    "#                 return data\n",
    "#         except FileNotFoundError as e:\n",
    "#             print(f\"File not found: {e}\")\n",
    "#             return None\n",
    "#         except IOError as e:\n",
    "#             print(f\"Error reading file: {e}\")\n",
    "#             return None\n",
    "\n",
    "#     else:\n",
    "#         # Handle multi-file mode (if needed)\n",
    "#         pass\n",
    "\n",
    "\n",
    "# torrent = Torrent.read(\"compnet.torrent\")\n",
    "\n",
    "# print(torrent.name)\n",
    "\n",
    "# data = _read_piece(torrent, 2)\n",
    "# print(len(data))\n",
    "# hash = hashlib.sha1(data).digest()\n",
    "# if hash == torrent.hashes[2]:\n",
    "#     print(\"Piece hash matches\")"
   ]
  },
  {
   "cell_type": "code",
   "execution_count": 11,
   "metadata": {},
   "outputs": [
    {
     "name": "stdout",
     "output_type": "stream",
     "text": [
      "17593083\n",
      "34\n",
      "slides\\Chapter_1 - Database System Concepts and Architecture.pdf\n",
      "slides\\Chapter_2-ERD.pdf\n",
      "slides\\b\\Chapter_3 - EERD.pdf\n",
      "slides\\a\\Chapter_7-Functional Dependencies & Normalization for Relational DBs.pdf\n",
      "slides\\a\\Chapter_8-1-97-Data Storage Indexing Structures for Files.pdf\n",
      "slides\\a\\Chapter_9 - Database Security.pdf\n",
      "slides\\a\\c\\Chapter_4-RelationalDataModelAndRelationalMapping.pdf\n",
      "slides\\a\\c\\Chapter_5-Relational Algebra.pdf\n",
      "slides\\a\\c\\Chapter_6 - SQL.pdf\n",
      "bytearray(b'\\x01\\x01\\x01\\x01\\x01\\x01\\x01\\x01\\x01\\x01\\x01\\x01\\x01\\x01\\x01\\x01\\x01\\x01\\x01\\x01\\x01\\x01\\x01\\x01\\x01\\x01\\x01\\x01\\x01\\x01\\x01\\x01\\x01\\x01')\n",
      "34\n"
     ]
    }
   ],
   "source": [
    "from FileManager import FileManager\n",
    "from PieceManager import PieceManager\n",
    "\n",
    "torrent = Torrent.read(\"./torrents/slides.torrent\")\n",
    "print(torrent.size)\n",
    "print(torrent.pieces)\n",
    "pieceManager = PieceManager(torrent, \"./download_path/\")\n",
    "print(pieceManager.bitfield)\n",
    "print(len(pieceManager.bitfield))\n",
    "\n",
    "fileManager = FileManager(\"./torrents/\", \"./_path/\")\n",
    "# fileManager.create_file_tree(torrent)"
   ]
  },
  {
   "cell_type": "code",
   "execution_count": 4,
   "metadata": {},
   "outputs": [
    {
     "data": {
      "text/plain": [
       "WindowsPath('slides/a/c')"
      ]
     },
     "execution_count": 4,
     "metadata": {},
     "output_type": "execute_result"
    }
   ],
   "source": [
    "torrent.files[6].parent"
   ]
  },
  {
   "cell_type": "code",
   "execution_count": 5,
   "metadata": {},
   "outputs": [
    {
     "name": "stdout",
     "output_type": "stream",
     "text": [
      "slides\\Chapter_1 - Database System Concepts and Architecture.pdf\n",
      "slides\\Chapter_2-ERD.pdf\n",
      "slides\\b\\Chapter_3 - EERD.pdf\n",
      "slides\\a\\Chapter_7-Functional Dependencies & Normalization for Relational DBs.pdf\n",
      "slides\\a\\Chapter_8-1-97-Data Storage Indexing Structures for Files.pdf\n",
      "slides\\a\\Chapter_9 - Database Security.pdf\n",
      "slides\\a\\c\\Chapter_4-RelationalDataModelAndRelationalMapping.pdf\n",
      "slides\\a\\c\\Chapter_5-Relational Algebra.pdf\n",
      "slides\\a\\c\\Chapter_6 - SQL.pdf\n"
     ]
    }
   ],
   "source": [
    "for i in range(len(torrent.files)):\n",
    "    print(torrent.files[i])"
   ]
  },
  {
   "cell_type": "code",
   "execution_count": 6,
   "metadata": {},
   "outputs": [
    {
     "data": {
      "text/plain": [
       "bytearray(b'\\x01\\x01\\x01\\x01\\x01\\x01\\x01\\x01\\x01\\x01\\x01\\x01\\x01\\x01\\x01\\x01\\x01\\x01\\x01\\x01\\x01\\x01\\x01\\x01\\x01\\x01\\x01\\x01\\x01\\x01\\x01\\x01\\x01\\x01')"
      ]
     },
     "execution_count": 6,
     "metadata": {},
     "output_type": "execute_result"
    }
   ],
   "source": [
    "bitfield = pieceManager.bitfield\n",
    "bitfield"
   ]
  },
  {
   "cell_type": "code",
   "execution_count": 7,
   "metadata": {},
   "outputs": [
    {
     "name": "stdout",
     "output_type": "stream",
     "text": [
      "Error reading piece: [Errno 13] Permission denied: './download_path/'\n"
     ]
    },
    {
     "ename": "TypeError",
     "evalue": "object supporting the buffer API required",
     "output_type": "error",
     "traceback": [
      "\u001b[1;31m---------------------------------------------------------------------------\u001b[0m",
      "\u001b[1;31mTypeError\u001b[0m                                 Traceback (most recent call last)",
      "\u001b[1;32mc:\\Users\\DUC_AN\\Documents\\GitHub\\CNET_ASSIGMENT\\torrent_test.ipynb Cell 7\u001b[0m line \u001b[0;36m2\n\u001b[0;32m      <a href='vscode-notebook-cell:/c%3A/Users/DUC_AN/Documents/GitHub/CNET_ASSIGMENT/torrent_test.ipynb#W4sZmlsZQ%3D%3D?line=0'>1</a>\u001b[0m piece_data \u001b[39m=\u001b[39m pieceManager\u001b[39m.\u001b[39mget_piece_data(\u001b[39m2\u001b[39m)\n\u001b[1;32m----> <a href='vscode-notebook-cell:/c%3A/Users/DUC_AN/Documents/GitHub/CNET_ASSIGMENT/torrent_test.ipynb#W4sZmlsZQ%3D%3D?line=1'>2</a>\u001b[0m hashed \u001b[39m=\u001b[39m hashlib\u001b[39m.\u001b[39;49msha1(piece_data)\u001b[39m.\u001b[39mdigest()\n\u001b[0;32m      <a href='vscode-notebook-cell:/c%3A/Users/DUC_AN/Documents/GitHub/CNET_ASSIGMENT/torrent_test.ipynb#W4sZmlsZQ%3D%3D?line=2'>3</a>\u001b[0m hashed \u001b[39m=\u001b[39m torrent\u001b[39m.\u001b[39mhashes[\u001b[39m2\u001b[39m]\n",
      "\u001b[1;31mTypeError\u001b[0m: object supporting the buffer API required"
     ]
    }
   ],
   "source": [
    "piece_data = pieceManager.get_piece_data(2)\n",
    "hashed = hashlib.sha1(piece_data).digest()\n",
    "hashed = torrent.hashes[2]"
   ]
  },
  {
   "cell_type": "code",
   "execution_count": 12,
   "metadata": {},
   "outputs": [
    {
     "data": {
      "text/plain": [
       "17593083"
      ]
     },
     "execution_count": 12,
     "metadata": {},
     "output_type": "execute_result"
    }
   ],
   "source": [
    "torrent2 = Torrent.read(\"./torrents/asm1.torrent\")\n",
    "torrent2.size"
   ]
  }
 ],
 "metadata": {
  "kernelspec": {
   "display_name": "cn",
   "language": "python",
   "name": "python3"
  },
  "language_info": {
   "codemirror_mode": {
    "name": "ipython",
    "version": 3
   },
   "file_extension": ".py",
   "mimetype": "text/x-python",
   "name": "python",
   "nbconvert_exporter": "python",
   "pygments_lexer": "ipython3",
   "version": "3.13.0"
  }
 },
 "nbformat": 4,
 "nbformat_minor": 2
}
